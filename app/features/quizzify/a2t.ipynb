{
 "cells": [
  {
   "cell_type": "code",
   "execution_count": null,
   "metadata": {},
   "outputs": [],
   "source": [
    "%pip install unstructured"
   ]
  },
  {
   "cell_type": "code",
   "execution_count": null,
   "metadata": {},
   "outputs": [],
   "source": [
    "%pip install langchain unstructured[all-docs] lxml"
   ]
  },
  {
   "cell_type": "code",
   "execution_count": 58,
   "metadata": {},
   "outputs": [
    {
     "name": "stdout",
     "output_type": "stream",
     "text": [
      "Requirement already satisfied: certifi in /Users/mac/projects AI/kai-ai-backend/env/lib/python3.10/site-packages (2024.7.4)\n",
      "Note: you may need to restart the kernel to use updated packages.\n"
     ]
    }
   ],
   "source": [
    "%pip install certifi\n"
   ]
  },
  {
   "cell_type": "code",
   "execution_count": null,
   "metadata": {},
   "outputs": [],
   "source": [
    "%pip install ssl\n",
    "%pip install git+https://github.com/openai/whisper.git \n",
    "%pip install langchain_community\n",
    "%pip install langchain\n",
    "%pip install ffmpeg\n",
    "\n",
    "#brew install ffmpeg\n"
   ]
  },
  {
   "cell_type": "code",
   "execution_count": 82,
   "metadata": {},
   "outputs": [
    {
     "name": "stdout",
     "output_type": "stream",
     "text": [
      "FFmpeg is accessible.ffmpeg version 7.0.2 Copyright (c) 2000-2024 the FFmpeg developers\n",
      "built with Apple clang version 14.0.0 (clang-1400.0.29.202)\n",
      "configuration: --prefix=/usr/local/Cellar/ffmpeg/7.0.2 --enable-shared --enable-pthreads --enable-version3 --cc=clang --host-cflags= --host-ldflags= --enable-ffplay --enable-gnutls --enable-gpl --enable-libaom --enable-libaribb24 --enable-libbluray --enable-libdav1d --enable-libharfbuzz --enable-libjxl --enable-libmp3lame --enable-libopus --enable-librav1e --enable-librist --enable-librubberband --enable-libsnappy --enable-libsrt --enable-libssh --enable-libsvtav1 --enable-libtesseract --enable-libtheora --enable-libvidstab --enable-libvmaf --enable-libvorbis --enable-libvpx --enable-libwebp --enable-libx264 --enable-libx265 --enable-libxml2 --enable-libxvid --enable-lzma --enable-libfontconfig --enable-libfreetype --enable-frei0r --enable-libass --enable-libopencore-amrnb --enable-libopencore-amrwb --enable-libopenjpeg --enable-libspeex --enable-libsoxr --enab\n",
      "le-libzmq --enable-libzimg --disable-libjack --disable-indev=jack --enable-videotoolbox --enable-audiotoolbox\n",
      "libavutil      59.  8.100 / 59.  8.100\n",
      "libavcodec     61.  3.100 / 61.  3.100\n",
      "libavformat    61.  1.100 / 61.  1.100\n",
      "libavdevice    61.  1.100 / 61.  1.100\n",
      "libavfilter    10.  1.100 / 10.  1.100\n",
      "libswscale      8.  1.100 /  8.  1.100\n",
      "libswresample   5.  1.100 /  5.  1.100\n",
      "libpostproc    58.  1.100 / 58.  1.100\n"
     ]
    }
   ],
   "source": [
    "import os\n",
    "os.environ['PATH'] += ':/usr/local/bin' \n",
    "import subprocess\n",
    "\n",
    "try:\n",
    "    subprocess.run([\"ffmpeg\", \"-version\"], check=True)\n",
    "    print(\"FFmpeg is accessible.\")\n",
    "except FileNotFoundError:\n",
    "    print(\"FFmpeg is not found.\")"
   ]
  },
  {
   "cell_type": "code",
   "execution_count": 87,
   "metadata": {},
   "outputs": [],
   "source": [
    "import ssl\n",
    "import whisper\n",
    "import os\n",
    "import tempfile\n",
    "import uuid\n",
    "import requests\n",
    "from langchain_community.document_loaders.csv_loader import CSVLoader\n",
    "from langchain_community.document_loaders import TextLoader\n"
   ]
  },
  {
   "cell_type": "code",
   "execution_count": 88,
   "metadata": {},
   "outputs": [
    {
     "name": "stdout",
     "output_type": "stream",
     "text": [
      ".DS_Store\n",
      "NN-audio.mp3\n"
     ]
    },
    {
     "name": "stderr",
     "output_type": "stream",
     "text": [
      "/Users/mac/projects AI/kai-ai-backend/env/lib/python3.10/site-packages/whisper/transcribe.py:126: UserWarning: FP16 is not supported on CPU; using FP32 instead\n",
      "  warnings.warn(\"FP16 is not supported on CPU; using FP32 instead\")\n"
     ]
    },
    {
     "name": "stdout",
     "output_type": "stream",
     "text": [
      "Structure and Function of the ANIMAL CELL explained (Organelles).mp3\n"
     ]
    },
    {
     "name": "stderr",
     "output_type": "stream",
     "text": [
      "/Users/mac/projects AI/kai-ai-backend/env/lib/python3.10/site-packages/whisper/transcribe.py:126: UserWarning: FP16 is not supported on CPU; using FP32 instead\n",
      "  warnings.warn(\"FP16 is not supported on CPU; using FP32 instead\")\n"
     ]
    },
    {
     "name": "stdout",
     "output_type": "stream",
     "text": [
      "Structure and Function of the PLANT CELL explained (Organelles).mp3\n"
     ]
    },
    {
     "name": "stderr",
     "output_type": "stream",
     "text": [
      "/Users/mac/projects AI/kai-ai-backend/env/lib/python3.10/site-packages/whisper/transcribe.py:126: UserWarning: FP16 is not supported on CPU; using FP32 instead\n",
      "  warnings.warn(\"FP16 is not supported on CPU; using FP32 instead\")\n"
     ]
    }
   ],
   "source": [
    "# model = whisper.load_model(\"base\")\n",
    "# result = model.transcribe(\"NN-audio.mp3\")\n",
    "# print(result)\n",
    "# with open(\"transcription.pdf\",\"w\") as f:\n",
    "#   f.write(result[\"text\"])\n",
    "\n",
    "from langchain.text_splitter import RecursiveCharacterTextSplitter\n",
    "from langchain_core.documents import Document\n",
    "\n",
    "import whisper\n",
    "import os\n",
    "\n",
    "def genenerate_audio_docs(audio_dir):\n",
    "    audio_text_chunks = []\n",
    "\n",
    "    # Load the Whisper model\n",
    "    model = whisper.load_model(\"base\")\n",
    "    \n",
    "    # Initialize the text splitter\n",
    "    splitter = RecursiveCharacterTextSplitter(chunk_size=1000, chunk_overlap=0)\n",
    "\n",
    "    # Iterate over files in the specified directory\n",
    "    for filename in sorted(os.listdir(audio_dir)):\n",
    "        print(filename)\n",
    "        if filename.endswith(\".mp3\"):\n",
    "            # Full path to the audio file\n",
    "            audio_path = os.path.join(audio_dir, filename)\n",
    "            \n",
    "            # Transcribe the audio file\n",
    "            result = model.transcribe(audio_path)\n",
    "            \n",
    "            # The transcription text is in result['text']\n",
    "            transcription_text = result['text']\n",
    "            \n",
    "            # Create a document object from the transcription text\n",
    "            doc = Document(page_content=transcription_text,metadata={})\n",
    "            \n",
    "            # Split the document into smaller chunks\n",
    "            texts = splitter.split_documents([doc])\n",
    "            \n",
    "            # Add metadata to each chunk\n",
    "            for text in texts:\n",
    "                text.metadata = {\"audio_url\": audio_path}\n",
    "            \n",
    "            # Extend the list with these chunks\n",
    "            audio_text_chunks.extend(texts)\n",
    "\n",
    "    return audio_text_chunks\n",
    "\n",
    "# Call the function with your directory path\n",
    "audio_docs = genenerate_audio_docs('/Users/mac/projects AI/kai-ai-backend/app/features/quizzify/audio')\n"
   ]
  },
  {
   "cell_type": "code",
   "execution_count": 89,
   "metadata": {},
   "outputs": [
    {
     "name": "stdout",
     "output_type": "stream",
     "text": [
      "page_content='Last summer, my family and I visited Russia. Even though none of us could read Russian, we did not have any trouble in figuring our way out. All thanks to Google's real-time translation of Russian boards into English. This is just one of the several applications of neural networks. Neural networks form the base of deep learning, a sub-filled machine learning, where the algorithms are inspired by the structure of the human brain. Neural networks take in data, train themselves to recognize the patterns in this data, and then predict the outputs for a new set of similar data. Let's understand how this is done. Let's construct a neural network that differentiates between a square, circle, and triangle. Neural networks are made up of layers of neurons. These neurons are the core processing units of the network. First, we have the input layer, which receives the input. The output layer predicts our final output. In between exist the hidden layers which perform most of the computations' metadata={'audio_url': '/Users/mac/projects AI/kai-ai-backend/app/features/quizzify/audio/NN-audio.mp3'}\n",
      "page_content='required by our network. Here's an image of a circle. This image is composed of 28x28 pixels, which make up for 784 pixels. Each pixel is fed as input to each neuron of the first layer. Neurons of one layer are connected to neurons of the next layer through channels. Each of these channels is assigned a numerical value known as weight. The inputs are multiplied to the corresponding weights, and their sum is sent as input to the neurons in the hidden layer. Each of these neurons is associated with a numerical value called the bias, which is then added to the input sum. This value is then passed through a threshold function called the activation function. The result of the activation function determines if the particular neuron will get activated or not. An activated neuron transmits data to the neurons of the next layer over the channels. In this manner, the data is propagated through the network. This is called forward propagation. In the output layer, the neuron with the highest' metadata={'audio_url': '/Users/mac/projects AI/kai-ai-backend/app/features/quizzify/audio/NN-audio.mp3'}\n",
      "page_content='value fires and determines the output. The values are basically a probability. For example, here our neuron associated with square has the highest probability. Hence, that's the output predicted by the neural network. Of course, just by a look at it, we know our neural network has made a wrong prediction. But how does the network figure this out? Note that our network is yet to be trained. During this training process, along with the input, our network also has the output fed to it. The predicted output is compared against the actual output to realize the error in prediction. The magnitude of the error indicates how wrong we are, and the signs suggest if our predicted values are higher or lower than expected. The arrows here give an indication of the direction and magnitude of change to reduce the error. This information is then transferred backward through our network. This is known as back propagation. Now, based on this information, the weights are adjusted. This cycle of forward' metadata={'audio_url': '/Users/mac/projects AI/kai-ai-backend/app/features/quizzify/audio/NN-audio.mp3'}\n",
      "page_content='propagation and back propagation is iteratively performed with multiple inputs. This process continues until our weights are assigned such that the network can predict the shapes correctly in most of the cases. This brings our training process to an end. You might wonder how long this training process takes. Honestly, neural networks may take hours or even months to train. But time is a reasonable trade-off when compared to its scope. Let us look at some of the prime applications of neural networks. Facial recognition. Cameras on smartphones these days can estimate the age of the person based on their facial features. This is neural networks at play, first differentiating the face from the background, and then correlating the lines and spots on your face to a possible age. Workcasting. Neural networks are trained to understand the patterns and detect the possibility of rainfall or arise in stock prices with high accuracy. Music composition. Neural networks can even learn patterns in' metadata={'audio_url': '/Users/mac/projects AI/kai-ai-backend/app/features/quizzify/audio/NN-audio.mp3'}\n",
      "page_content='music and train itself enough to compose a fresh tune. So, here is a question for you. Which of the following statements does not hold true? A, activation functions are threshold functions. B, errors calculated at each layer of the neural network. C, both forward and back propagation take place during the training process of a neural network. D, most of the data processing is carried out in the hidden layers. Leave your answers in the comment section below. Three of you stand a chance to win Amazon vouchers. So don't miss it. With deep learning and neural networks, we are still taking baby steps. The growth in this field has been foreseen by the big names. Companies such as Google, Amazon, and Nvidia have invested in developing products such as libraries, predictive models, and intuitive GPUs that support the implementation of neural networks. The question dividing the visionaries is on the reach of neural networks. To what extent can we replicate the human brain? We'd have to wait a' metadata={'audio_url': '/Users/mac/projects AI/kai-ai-backend/app/features/quizzify/audio/NN-audio.mp3'}\n",
      "page_content='few more years to give a definite answer. But if you enjoyed this video, it would only take a few seconds to like and share it. Also, if you haven't yet, do subscribe to our channel and hit the bell icon as we have a lot more exciting videos coming up. Fun learning till then.' metadata={'audio_url': '/Users/mac/projects AI/kai-ai-backend/app/features/quizzify/audio/NN-audio.mp3'}\n",
      "page_content='In cell biology, one distinguishes between pro-cariotic and eukaryotic cells. One type of eukaryotic cell is the animal cell. There are a lot of essential compartments within the animal cell which fulfill diverse functions. But before we come to that, please subscribe to the channel. It is for free, but helps a lot. With a monthly subscription, you can also become a member of this channel now. And please use this form of support only if you have enough money to spend. The animal cell is surrounded by a plasma membrane. This structure is a phospholipid double layer which is considered selectively permeable. Certain molecules can pass through and others cannot pass. The main function of the plasma membrane is to regulate nutrient and mineral transport. Inside the plasma membrane lies the cytoplasm. The cytoplasm is filled with cytosol. This fluid contains nutrients and the structures referred to as organelles. Among these, the nucleus might be one of the most iconic cell compartments.' metadata={'audio_url': '/Users/mac/projects AI/kai-ai-backend/app/features/quizzify/audio/Structure and Function of the ANIMAL CELL explained (Organelles).mp3'}\n",
      "page_content='The nucleus stores the majority of the genetic information in form of DNA. Within the nucleus, important processes take place. Replication to duplicate DNA and transcription to generate RNA. There is another structure located inside the nucleus. The nucleus. One among the functions is the production and assembly of the important ribosomes which will be mentioned again in a minute. The membrane of the nucleus is connected to a membrane of another cell organelle. This is the so-called endoplasmic reticulum. It abbreviated with ER. One distinguishes between the rough ER that has a granular structure because it is partly coated with little ribosomes and there is a smooth ER. There are of course also free ribosomes in the cytoplasm. At the rough ER, protein synthesis but also protein modification and preparation for their transport take place. At the smooth ER, proteins can be modified further. In addition, lipid synthesis occurs here as well. The newly synthesized or modified proteins' metadata={'audio_url': '/Users/mac/projects AI/kai-ai-backend/app/features/quizzify/audio/Structure and Function of the ANIMAL CELL explained (Organelles).mp3'}\n",
      "page_content='need to be transported to their point of destination. This is one of many functions that is overtaken by the Golgi apparatus. Here proteins are taken up from the rough ER. The proteins are sorted, packaged and sent to their respective location. Further, modifications such as glycosylation take place at the Golgi. Animal cells also possess lysosomes. A lysosome is a spherical organelle enclosed by a membrane. Inside are digestive enzymes that break down unwanted parts of the cell or foreign molecules. A low pH is of great importance for the digestion. Myocondria are among the most prominent organelles as they are known as the power supply of the cell. These organelles provide the energy that is fuel for the cell's biochemical processes. ATP, the energy currency of the cell, is assembled here. Paroxysomes are organelles that can accumulate and degrade peroxides. Paroxides can be dangerous to other cell compartments. Hydrogen peroxide is an unavoidable byproduct of biochemical reactions.' metadata={'audio_url': '/Users/mac/projects AI/kai-ai-backend/app/features/quizzify/audio/Structure and Function of the ANIMAL CELL explained (Organelles).mp3'}\n",
      "page_content='So, peroxysomes kind of diffuse this danger. Euchariotic cells also possess a cytoskeleton. In animal cells, the cytoskeleton can be subdivided into three categories. Microtubules, actin filaments, and intermediate filaments. The cytoskeleton contributes to the cell's shape and to the organization and movement of the organelles inside. But the cytoskeleton does also take part in the cell's motility itself. A special organelle of the animal cell is the centrosome. The centrosome can be seen as the production site of microtubules. The centrosome supports the structure of the cell and fulfills essential organizational functions during cell division. This was a brief and simplified overview of a typical animal cell. If you are curious how a typical plant cell is structured, you may check out this video here. Please like the video if it was helpful to you and don't forget to subscribe to the channel. Bye.' metadata={'audio_url': '/Users/mac/projects AI/kai-ai-backend/app/features/quizzify/audio/Structure and Function of the ANIMAL CELL explained (Organelles).mp3'}\n",
      "page_content='In cell biology, one distinguishes between pro-cariotic and eukaryotic cells. One type of eukaryotic cell and the functional basic unit of plants is the plant cell. There are a lot of important components within the plant cell, which fulfill diverse functions. But before we come to that, please subscribe to the channel. It is for free, but helps me a lot. With a monthly subscription, you can also become a member of this channel now. Please use this form of support only if you have enough money to spend. One of the various distinct features of the plant cell is found around the cell itself, the cell wall. This structure functions as a support skeleton and determines the shape of the cell. Further, the cell wall is a well-suited natural barrier against infections of fungi. The cell wall is composed of cellulose embedded in a net with other complex polysaccharides and proteins. The plant cell wall is a strong structure that needs to be sufficient to withstand the high osmotic pressure' metadata={'audio_url': '/Users/mac/projects AI/kai-ai-backend/app/features/quizzify/audio/Structure and Function of the PLANT CELL explained (Organelles).mp3'}\n",
      "page_content='that is present inside the cell. As for all eukaryotic cells, plant cells also possess a plasma membrane. This structure out of lipids is selectively permeable. Certain molecules can pass through and others cannot enter or exit. The main function of the plasma membrane is to regulate nutrient and mineral transport. Inside the plasma membrane lies the cytoplasm. Cytoplasm is described as the totality of both. Cytosol, eliquid containing the nutrients, the cytoskeleton and the organelles of a cell. Among these, the nucleus might be one of the most well-known cell compartments. The nucleus stores the majority of the genetic information packed in DNA. Within the nucleus, important processes take place. The nucleus is located in the nucleus, and the nucleus is located in the nucleus. The nucleus is located in the nucleus, and the nucleus is located in the nucleus. Among the functions is the production and assembly of the important ribosomes, which will be mentioned again in a minute. The' metadata={'audio_url': '/Users/mac/projects AI/kai-ai-backend/app/features/quizzify/audio/Structure and Function of the PLANT CELL explained (Organelles).mp3'}\n",
      "page_content='membrane of the nucleus is connected to a membrane of another cell organelle. This is the so-called endoplasmic reticulum, abbreviated with ER. One distinguishes between the rough ER that has its granular structure because it is partly coated with ribosomes, and there is the smooth ER. The ER, of course, also free ribosomes in the cytoplasm. At the rough ER, protein synthesis, but also protein modification and preparation for the transport take place. At the smooth ER, proteins are also modified. In addition, lipid synthesis occurs here. The newly synthesized or modified proteins need to be transported to their point of destination. This is one of many functions that is overtaken by the Golgi apparatus. Here, proteins that come from the rough ER are taken up. The proteins are sorted, packaged, and sent to their respective location. At the Golgi, the proteins might also be modified further. Glycosolation, for example, might take place here. The iconic plant cell wall also relies on the' metadata={'audio_url': '/Users/mac/projects AI/kai-ai-backend/app/features/quizzify/audio/Structure and Function of the PLANT CELL explained (Organelles).mp3'}\n",
      "page_content='Golgi. Polysaccharides are synthesized here. The secret of a leaf-screen color lies in chlorophyll. This is found in an organelle named the chloroplast. Photothynthesis is a feature that makes plant cells so special. Inside the chloroplasts is where the magic happens. Sunlight, water, and carbon dioxide are used to produce energy in form of sugars and indirectly oxygen is produced, which may be the most important byproduct for us humans. Some plant cells also possess a different type of plastic. The amyloplest is responsible for the storage of starch, an important polysaccharide. Mytochondria are the powerhouse of the cell. Sounds familiar, but why? These organelles provide the energy needed to power the cell's biochemical reactions. Paroxysomes are organelles that can accumulate and degrade parasites that can be dangerous to other cell compartments. Hydrogen peroxide, for instance, is an unavoidable byproduct of biochemical reactions. Plant cells have a gigantic permanent vacuole' metadata={'audio_url': '/Users/mac/projects AI/kai-ai-backend/app/features/quizzify/audio/Structure and Function of the PLANT CELL explained (Organelles).mp3'}\n",
      "page_content='that can take up to 90% of the total cell volume in plants. This special organelle is water-filled volume surrounded by a membrane known as the tonoplast. The vacuole has a whole bunch of different functions. It maintains the internal pressure, called turgor, and contributes to the cell's total stability. It is also seen as a large trash can that can digest waste inside the cell. Last but not least, one should mention the cytoskeleton. In plants, the cytoskeleton is mainly composed of microtubules and active filaments. The cytoskeleton contributes to the cell's shape and to the organization and movement of the organelles inside. This was a brief and simplified overview of a typical plant cell. If you are curious how an animal cell is structured, you may check out this video here. Please like the video if it was helpful to you and don't forget to subscribe to the channel. Bye!' metadata={'audio_url': '/Users/mac/projects AI/kai-ai-backend/app/features/quizzify/audio/Structure and Function of the PLANT CELL explained (Organelles).mp3'}\n"
     ]
    }
   ],
   "source": [
    "for audio in audio_docs:\n",
    "    print(audio)"
   ]
  },
  {
   "cell_type": "markdown",
   "metadata": {},
   "source": [
    "Creating Image documents"
   ]
  },
  {
   "cell_type": "code",
   "execution_count": null,
   "metadata": {},
   "outputs": [],
   "source": [
    "%pip install langchain_google_vertexai \n",
    "%pip install google-generativeai\n",
    "%pip install Pillow\n"
   ]
  },
  {
   "cell_type": "code",
   "execution_count": 67,
   "metadata": {},
   "outputs": [],
   "source": [
    "PROJECT_ID = \"trans-array-427509-h2\"\n",
    "REGION = \"us-central1\""
   ]
  },
  {
   "cell_type": "code",
   "execution_count": 68,
   "metadata": {},
   "outputs": [],
   "source": [
    "import vertexai\n",
    "vertexai.init(project=PROJECT_ID,location=REGION)\n",
    "\n",
    "from dotenv import load_dotenv\n",
    "load_dotenv()\n"
   ]
  },
  {
   "cell_type": "code",
   "execution_count": 90,
   "metadata": {},
   "outputs": [],
   "source": [
    "import base64\n",
    "import os\n",
    "from langchain_google_vertexai import VertexAI, ChatVertexAI, VertexAIEmbeddings\n",
    "import langchain_core \n",
    "import google.generativeai as genai\n",
    "import PIL"
   ]
  },
  {
   "cell_type": "code",
   "execution_count": 91,
   "metadata": {},
   "outputs": [],
   "source": [
    "from typing import Any\n",
    "import os\n",
    "from unstructured.partition.pdf import partition_pdf\n",
    "from PIL import Image\n",
    "import ssl\n",
    "\n",
    "ssl._create_default_https_context = ssl._create_stdlib_context\n",
    "\n",
    "input_path = \"/Users/mac/projects AI/kai-ai-backend/app/features/quizzify/\"\n",
    "output_path = '/Users/mac/projects AI/kai-ai-backend/app/features/quizzify/figures'\n",
    "\n",
    "# Extract elements and images\n",
    "raw_pdf_elements = partition_pdf(\n",
    "    filename=os.path.join(input_path, \"a_level_biology.pdf\"),\n",
    "    extract_images_in_pdf=True,\n",
    "    infer_table_structure=True,\n",
    "    chunking_strategy=\"by_title\",\n",
    "    max_characters=4000,\n",
    "    new_after_n_chars=3800,\n",
    "    combine_text_under_n_chars=2000,\n",
    "    image_output_dir_path=output_path\n",
    ")\n"
   ]
  },
  {
   "cell_type": "code",
   "execution_count": 92,
   "metadata": {},
   "outputs": [],
   "source": [
    "from IPython.display import Image\n",
    "\n",
    "#Creating image summaries\n",
    "def genenerate_image_summaries(img_dir):\n",
    "    img_paths = []\n",
    "    image_summaries = []\n",
    "\n",
    "    model = genai.GenerativeModel(model_name=\"models/gemini-1.5-pro-latest\")\n",
    "    prompt = \"\"\"You are a curriculum instructor tasked with summarizing images for retrieval and in assisting in generating quiz questions.\\\n",
    "        These summaries will be embedded and usd ot retrieve the raw image.\\\n",
    "            Describe consisely the contents of the images and describe the characteristics of each component of the image. Do not infer what the image means unless it is for analysing mathematical graphs.\"\"\"\n",
    "\n",
    "    for filename in sorted(os.listdir(img_dir)):\n",
    "      print(filename)\n",
    "      if filename.endswith(\".png\"):\n",
    "        image_path = os.path.join(img_dir,filename)\n",
    "        img_paths.append(image_path)\n",
    "        img = Image(image_path) \n",
    "        response = model.generate_content([prompt,img])\n",
    "        image_summaries.append(response)\n",
    "    return image_summaries,img_paths"
   ]
  },
  {
   "cell_type": "code",
   "execution_count": 93,
   "metadata": {},
   "outputs": [
    {
     "name": "stdout",
     "output_type": "stream",
     "text": [
      "cell1.png\n",
      "cell2.png\n",
      "eye1.png\n",
      "figure-2-1.png\n",
      "figure-2-2.png\n",
      "figure-3-3.png\n"
     ]
    }
   ],
   "source": [
    "image_dir = '/Users/mac/projects AI/kai-ai-backend/app/features/quizzify/images'\n",
    "image_summaries,img = genenerate_image_summaries(image_dir)"
   ]
  },
  {
   "cell_type": "code",
   "execution_count": 94,
   "metadata": {},
   "outputs": [
    {
     "name": "stdout",
     "output_type": "stream",
     "text": [
      "6\n",
      "['/Users/mac/projects AI/kai-ai-backend/app/features/quizzify/images/cell1.png', '/Users/mac/projects AI/kai-ai-backend/app/features/quizzify/images/cell2.png', '/Users/mac/projects AI/kai-ai-backend/app/features/quizzify/images/eye1.png', '/Users/mac/projects AI/kai-ai-backend/app/features/quizzify/images/figure-2-1.png', '/Users/mac/projects AI/kai-ai-backend/app/features/quizzify/images/figure-2-2.png', '/Users/mac/projects AI/kai-ai-backend/app/features/quizzify/images/figure-3-3.png']\n",
      "The image is a scatter plot with data points clustered in the bottom left corner and a positive linear trend. A straight line is drawn through the data, indicating a positive correlation. The majority of the asterisks are concentrated at the origin of the graph, with a few outliers scattered further out. \n",
      "\n"
     ]
    }
   ],
   "source": [
    "print(len(image_summaries))\n",
    "print(img)\n",
    "print(image_summaries[4].candidates[0].content.parts[0].text)"
   ]
  },
  {
   "cell_type": "code",
   "execution_count": 95,
   "metadata": {},
   "outputs": [
    {
     "name": "stdout",
     "output_type": "stream",
     "text": [
      "page_content='The image shows a cross-section of an animal cell with its components labelled. The cell is depicted as a three-dimensional, orange sphere containing smaller organelles of various shapes, sizes, and colors.\n",
      "\n",
      "* **Cell membrane:** Represented as the outer boundary of the cell, a thin, black line.\n",
      "* **Cytoplasm:** The light blue space within the cell membrane that houses the organelles.\n",
      "* **Mitochondrion:** An orange, bean-shaped organelle with an inner membrane folded into cristae. \n",
      "* **Nucleus:** A large, circular, purple organelle centrally located with a darker, speckled interior. \n",
      "* **DNA:**  Labelled within the nucleus, appearing as a tangled network.\n",
      "* **Endoplasmic reticulum:** A network of interconnected sacs and tubules extending throughout the cytoplasm, colored orange. \n",
      "* **Lysosome:** A small, circular organelle colored teal.\n",
      "* **Ribosome:** A tiny green dot on the outer surface of the cell membrane.\n",
      "* **Golgi apparatus:** A series of flattened, stacked sacs, or cisternae, colored yellow and resembling a stack of pancakes. \n",
      "' metadata={'image_url': '/Users/mac/projects AI/kai-ai-backend/app/features/quizzify/images/cell1.png'}\n"
     ]
    }
   ],
   "source": [
    "def generate_image_documents(image_paths:list,image_summaries:list):\n",
    " img_summaries = []\n",
    " #extracts only the summary text from the llm response\n",
    " for summary in image_summaries:\n",
    "    img_summary = summary.candidates[0].content.parts[0].text\n",
    "    img_summaries.append(img_summary)\n",
    "\n",
    "#creates document object with image summary and image path\n",
    " img_docs = []\n",
    " for i in range(len(img_summaries)):\n",
    "    summary = img_summaries[i]\n",
    "    metadata = image_paths[i]\n",
    "    img_doc = Document(page_content=summary,metadata={\"image_url\":metadata})\n",
    "    img_docs.append(img_doc)\n",
    "    \n",
    " return img_docs\n",
    "\n",
    "image_docs = generate_image_documents(image_summaries=image_summaries,image_paths=img)\n",
    "print(image_docs[0])"
   ]
  },
  {
   "cell_type": "code",
   "execution_count": 96,
   "metadata": {},
   "outputs": [
    {
     "name": "stderr",
     "output_type": "stream",
     "text": [
      "I0000 00:00:1724878698.008244  106216 check_gcp_environment_no_op.cc:29] ALTS: Platforms other than Linux and Windows are not supported\n"
     ]
    }
   ],
   "source": [
    "from tools import RAGpipeline\n",
    "docs =[]\n",
    "docs = image_docs + audio_docs\n",
    "# for doc in docs:\n",
    "#     print(doc)\n",
    "rag = RAGpipeline()\n",
    "db = rag.create_vectorstore(documents=docs)\n",
    "\n"
   ]
  },
  {
   "cell_type": "code",
   "execution_count": 97,
   "metadata": {},
   "outputs": [
    {
     "name": "stderr",
     "output_type": "stream",
     "text": [
      "I0000 00:00:1724878705.019480  106216 check_gcp_environment_no_op.cc:29] ALTS: Platforms other than Linux and Windows are not supported\n"
     ]
    },
    {
     "name": "stdout",
     "output_type": "stream",
     "text": [
      "{'question': 'Which of the following is NOT a component of the animal cell?', 'choices': [{'key': 'A', 'value': 'Plasma membrane'}, {'key': 'B', 'value': 'Cytoplasm'}, {'key': 'C', 'value': 'Cell wall'}, {'key': 'D', 'value': 'Nucleus'}], 'answer': 'C', 'explanation': 'Animal cells do not have a cell wall, unlike plant cells.'}\n",
      "{'question': 'Which of the following is a structure found in animal cells but not in plant cells?', 'choices': [{'key': 'A', 'value': 'Cell wall'}, {'key': 'B', 'value': 'Centrosome'}, {'key': 'C', 'value': 'Chloroplast'}, {'key': 'D', 'value': 'Nucleus'}], 'answer': 'C', 'explanation': 'Chloroplasts are organelles found in plant cells that are responsible for photosynthesis. Animal cells do not have chloroplasts because they do not photosynthesize.'}\n",
      "{'question': 'Which of the following is a function of the plasma membrane in an animal cell?', 'choices': [{'key': 'A', 'value': 'Regulate nutrient and mineral transport'}, {'key': 'B', 'value': 'Produce ATP'}, {'key': 'C', 'value': 'Break down unwanted parts of the cell'}, {'key': 'D', 'value': 'Support the structure of the cell'}], 'answer': 'A', 'explanation': 'The plasma membrane is a selectively permeable phospholipid double layer that regulates the transport of nutrients and minerals into and out of the cell.'}\n"
     ]
    }
   ],
   "source": [
    "from tools import QuizBuilder\n",
    "\n",
    "ques_gen = QuizBuilder(vectorstore=db,topic=\"animal cell\")\n",
    "questions = ques_gen.create_questions(3)\n",
    "for q in questions:\n",
    "    print(q)"
   ]
  },
  {
   "cell_type": "code",
   "execution_count": 1,
   "metadata": {},
   "outputs": [
    {
     "ename": "ModuleNotFoundError",
     "evalue": "No module named 'app'",
     "output_type": "error",
     "traceback": [
      "\u001b[0;31m---------------------------------------------------------------------------\u001b[0m",
      "\u001b[0;31mModuleNotFoundError\u001b[0m                       Traceback (most recent call last)",
      "Cell \u001b[0;32mIn[1], line 1\u001b[0m\n\u001b[0;32m----> 1\u001b[0m \u001b[38;5;28;01mfrom\u001b[39;00m \u001b[38;5;21;01mapp\u001b[39;00m\u001b[38;5;21;01m.\u001b[39;00m\u001b[38;5;21;01mservices\u001b[39;00m\u001b[38;5;21;01m.\u001b[39;00m\u001b[38;5;21;01mlogger\u001b[39;00m \u001b[38;5;28;01mimport\u001b[39;00m setup_logger\n\u001b[1;32m      2\u001b[0m \u001b[38;5;28;01mfrom\u001b[39;00m \u001b[38;5;21;01mapp\u001b[39;00m\u001b[38;5;21;01m.\u001b[39;00m\u001b[38;5;21;01mapi\u001b[39;00m\u001b[38;5;21;01m.\u001b[39;00m\u001b[38;5;21;01merror_utilities\u001b[39;00m \u001b[38;5;28;01mimport\u001b[39;00m FileHandlerError, ImageHandlerError\n\u001b[1;32m      3\u001b[0m \u001b[38;5;28;01mfrom\u001b[39;00m \u001b[38;5;21;01mlangchain_community\u001b[39;00m\u001b[38;5;21;01m.\u001b[39;00m\u001b[38;5;21;01mdocument_loaders\u001b[39;00m \u001b[38;5;28;01mimport\u001b[39;00m YoutubeLoader, PyPDFLoader, TextLoader, UnstructuredURLLoader, UnstructuredPowerPointLoader, Docx2txtLoader, UnstructuredExcelLoader, UnstructuredXMLLoader\n",
      "\u001b[0;31mModuleNotFoundError\u001b[0m: No module named 'app'"
     ]
    }
   ],
   "source": [
    "from app.services.logger import setup_logger\n",
    "from app.api.error_utilities import FileHandlerError, ImageHandlerError\n",
    "from langchain_community.document_loaders import YoutubeLoader, PyPDFLoader, TextLoader, UnstructuredURLLoader, UnstructuredPowerPointLoader, Docx2txtLoader, UnstructuredExcelLoader, UnstructuredXMLLoader\n",
    "\n",
    "logger = setup_logger(__name__)\n",
    "splitter = RecursiveCharacterTextSplitter(\n",
    "    chunk_size = 1000,\n",
    "    chunk_overlap = 100\n",
    ")\n",
    "class FileHandler:\n",
    "    def __init__(self, file_loader, file_extension):\n",
    "        self.file_loader = file_loader\n",
    "        self.file_extension = file_extension\n",
    "\n",
    "    def load(self, url):\n",
    "        # Generate a unique filename with a UUID prefix\n",
    "        unique_filename = f\"{uuid.uuid4()}.{self.file_extension}\"\n",
    "\n",
    "        # Download the file from the URL and save it to a temporary file\n",
    "        response = requests.get(url)\n",
    "        response.raise_for_status()  # Ensure the request was successful\n",
    "\n",
    "        with tempfile.NamedTemporaryFile(delete=False, prefix=unique_filename) as temp_file:\n",
    "            temp_file.write(response.content)\n",
    "            temp_file_path = temp_file.name\n",
    "\n",
    "        # Use the file_loader to load the documents\n",
    "        try:\n",
    "            loader = self.file_loader(file_path=temp_file_path)\n",
    "        except Exception as e:\n",
    "            logger.error(f\"No such file found at {temp_file_path}\")\n",
    "            raise FileHandlerError(f\"No file found\", temp_file_path) from e\n",
    "\n",
    "        try:\n",
    "            documents = loader.load()\n",
    "        except Exception as e:\n",
    "            logger.error(f\"File content might be private or unavailable or the URL is incorrect.\")\n",
    "            raise FileHandlerError(f\"No file content available\", temp_file_path) from e\n",
    "\n",
    "        # Remove the temporary file\n",
    "        os.remove(temp_file_path)\n",
    "\n",
    "        return documents\n",
    "    \n",
    "def load_pdf_documents(pdf_url: str, verbose=False):\n",
    "    pdf_loader = FileHandler(PyPDFLoader, \"pdf\")\n",
    "    docs = pdf_loader.load(pdf_url)\n",
    "    image_dir =\"app/features/quizzify/figures\"\n",
    "#extracting images from the pdf and storing them in a directory\n",
    "    raw_pdf_elements = partition_pdf(\n",
    "      url=pdf_url,\n",
    "      extract_images_in_pdf=True,\n",
    "      infer_table_structure=True,\n",
    "      chunking_strategy=\"by_title\",\n",
    "      max_characters=4000,\n",
    "      new_after_n_chars=3800,\n",
    "      combine_text_under_n_chars=2000,\n",
    "      image_output_dir_path=\"app/features/quizzify/figures\"\n",
    ")\n",
    "    image_docs = genenerate_image_summaries(image_dir)\n",
    "#Converting the extracted images to text document summaries\n",
    "    \n",
    "    if docs:\n",
    "        split_docs = splitter.split_documents(docs)\n",
    "\n",
    "        if verbose:\n",
    "            logger.info(f\"Found PDF file\")\n",
    "            logger.info(f\"Splitting documents into {len(split_docs)} chunks\")\n",
    "\n",
    "        return split_docs + image_docs\n"
   ]
  }
 ],
 "metadata": {
  "kernelspec": {
   "display_name": "env",
   "language": "python",
   "name": "python3"
  },
  "language_info": {
   "codemirror_mode": {
    "name": "ipython",
    "version": 3
   },
   "file_extension": ".py",
   "mimetype": "text/x-python",
   "name": "python",
   "nbconvert_exporter": "python",
   "pygments_lexer": "ipython3",
   "version": "3.10.6"
  }
 },
 "nbformat": 4,
 "nbformat_minor": 2
}
