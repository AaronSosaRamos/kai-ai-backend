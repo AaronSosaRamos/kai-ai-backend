{
 "cells": [
  {
   "cell_type": "code",
   "execution_count": 45,
   "metadata": {},
   "outputs": [
    {
     "name": "stdout",
     "output_type": "stream",
     "text": [
      "\n",
      "\u001b[1m[\u001b[0m\u001b[34;49mnotice\u001b[0m\u001b[1;39;49m]\u001b[0m\u001b[39;49m A new release of pip is available: \u001b[0m\u001b[31;49m24.0\u001b[0m\u001b[39;49m -> \u001b[0m\u001b[32;49m24.2\u001b[0m\n",
      "\u001b[1m[\u001b[0m\u001b[34;49mnotice\u001b[0m\u001b[1;39;49m]\u001b[0m\u001b[39;49m To update, run: \u001b[0m\u001b[32;49mpip install --upgrade pip\u001b[0m\n",
      "Note: you may need to restart the kernel to use updated packages.\n"
     ]
    }
   ],
   "source": [
    "%pip install --upgrade --quiet \"unstructured[all-docs]\""
   ]
  },
  {
   "cell_type": "code",
   "execution_count": 46,
   "metadata": {},
   "outputs": [
    {
     "name": "stdout",
     "output_type": "stream",
     "text": [
      "Collecting tesseract-ocr\n",
      "  Using cached tesseract-ocr-0.0.1.tar.gz (33 kB)\n",
      "  Installing build dependencies ... \u001b[?25ldone\n",
      "\u001b[?25h  Getting requirements to build wheel ... \u001b[?25ldone\n",
      "\u001b[?25h  Preparing metadata (pyproject.toml) ... \u001b[?25ldone\n",
      "\u001b[?25hCollecting cython (from tesseract-ocr)\n",
      "  Using cached Cython-3.0.11-cp312-cp312-macosx_10_9_x86_64.whl.metadata (3.2 kB)\n",
      "Using cached Cython-3.0.11-cp312-cp312-macosx_10_9_x86_64.whl (3.1 MB)\n",
      "Building wheels for collected packages: tesseract-ocr\n",
      "  Building wheel for tesseract-ocr (pyproject.toml) ... \u001b[?25lerror\n",
      "  \u001b[1;31merror\u001b[0m: \u001b[1msubprocess-exited-with-error\u001b[0m\n",
      "  \n",
      "  \u001b[31m×\u001b[0m \u001b[32mBuilding wheel for tesseract-ocr \u001b[0m\u001b[1;32m(\u001b[0m\u001b[32mpyproject.toml\u001b[0m\u001b[1;32m)\u001b[0m did not run successfully.\n",
      "  \u001b[31m│\u001b[0m exit code: \u001b[1;36m1\u001b[0m\n",
      "  \u001b[31m╰─>\u001b[0m \u001b[31m[196 lines of output]\u001b[0m\n",
      "  \u001b[31m   \u001b[0m /private/var/folders/y5/3b88q7jx0ygbly546r1bj8tm0000gn/T/pip-build-env-_mmu0h5k/overlay/lib/python3.12/site-packages/setuptools/_distutils/dist.py:260: UserWarning: Unknown distribution option: 'tests_require'\n",
      "  \u001b[31m   \u001b[0m   warnings.warn(msg)\n",
      "  \u001b[31m   \u001b[0m /private/var/folders/y5/3b88q7jx0ygbly546r1bj8tm0000gn/T/pip-build-env-_mmu0h5k/overlay/lib/python3.12/site-packages/setuptools/dist.py:452: SetuptoolsDeprecationWarning: Invalid dash-separated options\n",
      "  \u001b[31m   \u001b[0m !!\n",
      "  \u001b[31m   \u001b[0m \n",
      "  \u001b[31m   \u001b[0m         ********************************************************************************\n",
      "  \u001b[31m   \u001b[0m         Usage of dash-separated 'description-file' will not be supported in future\n",
      "  \u001b[31m   \u001b[0m         versions. Please use the underscore name 'description_file' instead.\n",
      "  \u001b[31m   \u001b[0m \n",
      "  \u001b[31m   \u001b[0m         By 2024-Sep-26, you need to update your project and remove deprecated calls\n",
      "  \u001b[31m   \u001b[0m         or your builds will no longer be supported.\n",
      "  \u001b[31m   \u001b[0m \n",
      "  \u001b[31m   \u001b[0m         See https://setuptools.pypa.io/en/latest/userguide/declarative_config.html for details.\n",
      "  \u001b[31m   \u001b[0m         ********************************************************************************\n",
      "  \u001b[31m   \u001b[0m \n",
      "  \u001b[31m   \u001b[0m !!\n",
      "  \u001b[31m   \u001b[0m   opt = self.warn_dash_deprecation(opt, section)\n",
      "  \u001b[31m   \u001b[0m running bdist_wheel\n",
      "  \u001b[31m   \u001b[0m running build\n",
      "  \u001b[31m   \u001b[0m running build_py\n",
      "  \u001b[31m   \u001b[0m file tesseract_ocr.py (for module tesseract_ocr) not found\n",
      "  \u001b[31m   \u001b[0m file tesseract_ocr.py (for module tesseract_ocr) not found\n",
      "  \u001b[31m   \u001b[0m running build_ext\n",
      "  \u001b[31m   \u001b[0m building 'tesseract_ocr' extension\n",
      "  \u001b[31m   \u001b[0m creating build\n",
      "  \u001b[31m   \u001b[0m creating build/temp.macosx-10.9-universal2-cpython-312\n",
      "  \u001b[31m   \u001b[0m clang++ -fno-strict-overflow -Wsign-compare -Wunreachable-code -fno-common -dynamic -DNDEBUG -g -O3 -Wall -arch arm64 -arch x86_64 -g -I/Users/abirsleem/Documents/Abir/NewJOB/RadicalAIInternship/kai-ai-backend/env/include -I/Library/Frameworks/Python.framework/Versions/3.12/include/python3.12 -c tesseract_ocr.cpp -o build/temp.macosx-10.9-universal2-cpython-312/tesseract_ocr.o\n",
      "  \u001b[31m   \u001b[0m In file included from tesseract_ocr.cpp:264:\n",
      "  \u001b[31m   \u001b[0m In file included from /usr/local/include/leptonica/allheaders.h:35:\n",
      "  \u001b[31m   \u001b[0m In file included from /usr/local/include/leptonica/alltypes.h:37:\n",
      "  \u001b[31m   \u001b[0m /usr/local/include/leptonica/environ.h:206:10: warning: 'HAVE_FSTATAT' macro redefined [-Wmacro-redefined]\n",
      "  \u001b[31m   \u001b[0m #define  HAVE_FSTATAT     0\n",
      "  \u001b[31m   \u001b[0m          ^\n",
      "  \u001b[31m   \u001b[0m /Library/Frameworks/Python.framework/Versions/3.12/include/python3.12/pyconfig.h:409:9: note: previous definition is here\n",
      "  \u001b[31m   \u001b[0m #define HAVE_FSTATAT 1\n",
      "  \u001b[31m   \u001b[0m         ^\n",
      "  \u001b[31m   \u001b[0m In file included from tesseract_ocr.cpp:264:\n",
      "  \u001b[31m   \u001b[0m In file included from /usr/local/include/leptonica/allheaders.h:35:\n",
      "  \u001b[31m   \u001b[0m In file included from /usr/local/include/leptonica/alltypes.h:37:\n",
      "  \u001b[31m   \u001b[0m /usr/local/include/leptonica/environ.h:207:10: warning: 'HAVE_DIRFD' macro redefined [-Wmacro-redefined]\n",
      "  \u001b[31m   \u001b[0m #define  HAVE_DIRFD       0\n",
      "  \u001b[31m   \u001b[0m          ^\n",
      "  \u001b[31m   \u001b[0m /Library/Frameworks/Python.framework/Versions/3.12/include/python3.12/pyconfig.h:286:9: note: previous definition is here\n",
      "  \u001b[31m   \u001b[0m #define HAVE_DIRFD 1\n",
      "  \u001b[31m   \u001b[0m         ^\n",
      "  \u001b[31m   \u001b[0m In file included from tesseract_ocr.cpp:265:\n",
      "  \u001b[31m   \u001b[0m In file included from /usr/local/include/tesseract/baseapi.h:25:\n",
      "  \u001b[31m   \u001b[0m In file included from /usr/local/include/tesseract/pageiterator.h:22:\n",
      "  \u001b[31m   \u001b[0m /usr/local/include/tesseract/publictypes.h:31:1: error: unknown type name 'constexpr'\n",
      "  \u001b[31m   \u001b[0m constexpr int kPointsPerInch = 72;\n",
      "  \u001b[31m   \u001b[0m ^\n",
      "  \u001b[31m   \u001b[0m /usr/local/include/tesseract/publictypes.h:36:1: error: unknown type name 'constexpr'\n",
      "  \u001b[31m   \u001b[0m constexpr int kMinCredibleResolution = 70;\n",
      "  \u001b[31m   \u001b[0m ^\n",
      "  \u001b[31m   \u001b[0m /usr/local/include/tesseract/publictypes.h:38:1: error: unknown type name 'constexpr'\n",
      "  \u001b[31m   \u001b[0m constexpr int kMaxCredibleResolution = 2400;\n",
      "  \u001b[31m   \u001b[0m ^\n",
      "  \u001b[31m   \u001b[0m /usr/local/include/tesseract/publictypes.h:43:1: error: unknown type name 'constexpr'\n",
      "  \u001b[31m   \u001b[0m constexpr int kResolutionEstimationFactor = 10;\n",
      "  \u001b[31m   \u001b[0m ^\n",
      "  \u001b[31m   \u001b[0m In file included from tesseract_ocr.cpp:265:\n",
      "  \u001b[31m   \u001b[0m In file included from /usr/local/include/tesseract/baseapi.h:27:\n",
      "  \u001b[31m   \u001b[0m In file included from /usr/local/include/tesseract/resultiterator.h:23:\n",
      "  \u001b[31m   \u001b[0m In file included from /usr/local/include/tesseract/ltrresultiterator.h:24:\n",
      "  \u001b[31m   \u001b[0m /usr/local/include/tesseract/unichar.h:34:20: warning: alias declarations are a C++11 extension [-Wc++11-extensions]\n",
      "  \u001b[31m   \u001b[0m using UNICHAR_ID = int;\n",
      "  \u001b[31m   \u001b[0m                    ^\n",
      "  \u001b[31m   \u001b[0m /usr/local/include/tesseract/unichar.h:49:16: warning: alias declarations are a C++11 extension [-Wc++11-extensions]\n",
      "  \u001b[31m   \u001b[0m using char32 = signed int;\n",
      "  \u001b[31m   \u001b[0m                ^\n",
      "  \u001b[31m   \u001b[0m /usr/local/include/tesseract/unichar.h:106:16: warning: alias declarations are a C++11 extension [-Wc++11-extensions]\n",
      "  \u001b[31m   \u001b[0m     using CI = const_iterator;\n",
      "  \u001b[31m   \u001b[0m                ^\n",
      "  \u001b[31m   \u001b[0m /usr/local/include/tesseract/unichar.h:169:8: error: function definition does not declare parameters\n",
      "  \u001b[31m   \u001b[0m   char chars[UNICHAR_LEN]{};\n",
      "  \u001b[31m   \u001b[0m        ^\n",
      "  \u001b[31m   \u001b[0m /usr/local/include/tesseract/unichar.h:58:12: error: use of undeclared identifier 'chars'\n",
      "  \u001b[31m   \u001b[0m     memset(chars, 0, UNICHAR_LEN);\n",
      "  \u001b[31m   \u001b[0m            ^\n",
      "  \u001b[31m   \u001b[0m /usr/local/include/tesseract/unichar.h:76:15: error: use of undeclared identifier 'chars'\n",
      "  \u001b[31m   \u001b[0m     int len = chars[UNICHAR_LEN - 1];\n",
      "  \u001b[31m   \u001b[0m               ^\n",
      "  \u001b[31m   \u001b[0m /usr/local/include/tesseract/unichar.h:82:12: error: use of undeclared identifier 'chars'\n",
      "  \u001b[31m   \u001b[0m     return chars;\n",
      "  \u001b[31m   \u001b[0m            ^\n",
      "  \u001b[31m   \u001b[0m In file included from tesseract_ocr.cpp:265:\n",
      "  \u001b[31m   \u001b[0m In file included from /usr/local/include/tesseract/baseapi.h:27:\n",
      "  \u001b[31m   \u001b[0m In file included from /usr/local/include/tesseract/resultiterator.h:23:\n",
      "  \u001b[31m   \u001b[0m /usr/local/include/tesseract/ltrresultiterator.h:65:24: warning: 'override' keyword is a C++11 extension [-Wc++11-extensions]\n",
      "  \u001b[31m   \u001b[0m   ~LTRResultIterator() override;\n",
      "  \u001b[31m   \u001b[0m                        ^\n",
      "  \u001b[31m   \u001b[0m /usr/local/include/tesseract/ltrresultiterator.h:212:56: error: a space is required between consecutive right angle brackets (use '> >')\n",
      "  \u001b[31m   \u001b[0m   std::vector<std::vector<std::pair<const char *, float>>> *Timesteps() const;\n",
      "  \u001b[31m   \u001b[0m                                                        ^~\n",
      "  \u001b[31m   \u001b[0m                                                        > >\n",
      "  \u001b[31m   \u001b[0m /usr/local/include/tesseract/ltrresultiterator.h:221:44: error: a space is required between consecutive right angle brackets (use '> >')\n",
      "  \u001b[31m   \u001b[0m   std::vector<std::pair<const char *, float>> *LSTM_choices_ = nullptr;\n",
      "  \u001b[31m   \u001b[0m                                            ^~\n",
      "  \u001b[31m   \u001b[0m                                            > >\n",
      "  \u001b[31m   \u001b[0m /usr/local/include/tesseract/ltrresultiterator.h:221:62: warning: default member initializer for non-static data member is a C++11 extension [-Wc++11-extensions]\n",
      "  \u001b[31m   \u001b[0m   std::vector<std::pair<const char *, float>> *LSTM_choices_ = nullptr;\n",
      "  \u001b[31m   \u001b[0m                                                              ^\n",
      "  \u001b[31m   \u001b[0m /usr/local/include/tesseract/ltrresultiterator.h:222:44: error: a space is required between consecutive right angle brackets (use '> >')\n",
      "  \u001b[31m   \u001b[0m   std::vector<std::pair<const char *, float>>::iterator LSTM_choice_it_;\n",
      "  \u001b[31m   \u001b[0m                                            ^~\n",
      "  \u001b[31m   \u001b[0m                                            > >\n",
      "  \u001b[31m   \u001b[0m In file included from tesseract_ocr.cpp:265:\n",
      "  \u001b[31m   \u001b[0m In file included from /usr/local/include/tesseract/baseapi.h:27:\n",
      "  \u001b[31m   \u001b[0m /usr/local/include/tesseract/resultiterator.h:40:21: warning: 'override' keyword is a C++11 extension [-Wc++11-extensions]\n",
      "  \u001b[31m   \u001b[0m   ~ResultIterator() override = default;\n",
      "  \u001b[31m   \u001b[0m                     ^\n",
      "  \u001b[31m   \u001b[0m /usr/local/include/tesseract/resultiterator.h:40:32: warning: defaulted function definitions are a C++11 extension [-Wc++11-extensions]\n",
      "  \u001b[31m   \u001b[0m   ~ResultIterator() override = default;\n",
      "  \u001b[31m   \u001b[0m                                ^\n",
      "  \u001b[31m   \u001b[0m /usr/local/include/tesseract/resultiterator.h:47:16: warning: 'override' keyword is a C++11 extension [-Wc++11-extensions]\n",
      "  \u001b[31m   \u001b[0m   void Begin() override;\n",
      "  \u001b[31m   \u001b[0m                ^\n",
      "  \u001b[31m   \u001b[0m /usr/local/include/tesseract/resultiterator.h:61:38: warning: 'override' keyword is a C++11 extension [-Wc++11-extensions]\n",
      "  \u001b[31m   \u001b[0m   bool Next(PageIteratorLevel level) override;\n",
      "  \u001b[31m   \u001b[0m                                      ^\n",
      "  \u001b[31m   \u001b[0m /usr/local/include/tesseract/resultiterator.h:69:55: warning: 'override' keyword is a C++11 extension [-Wc++11-extensions]\n",
      "  \u001b[31m   \u001b[0m   bool IsAtBeginningOf(PageIteratorLevel level) const override;\n",
      "  \u001b[31m   \u001b[0m                                                       ^\n",
      "  \u001b[31m   \u001b[0m /usr/local/include/tesseract/resultiterator.h:77:58: warning: 'override' keyword is a C++11 extension [-Wc++11-extensions]\n",
      "  \u001b[31m   \u001b[0m                         PageIteratorLevel element) const override;\n",
      "  \u001b[31m   \u001b[0m                                                          ^\n",
      "  \u001b[31m   \u001b[0m /usr/local/include/tesseract/resultiterator.h:94:76: error: a space is required between consecutive right angle brackets (use '> >')\n",
      "  \u001b[31m   \u001b[0m   virtual std::vector<std::vector<std::vector<std::pair<const char *, float>>>>\n",
      "  \u001b[31m   \u001b[0m                                                                            ^~\n",
      "  \u001b[31m   \u001b[0m                                                                            > >\n",
      "  \u001b[31m   \u001b[0m /usr/local/include/tesseract/resultiterator.h:94:78: error: a space is required between consecutive right angle brackets (use '> >')\n",
      "  \u001b[31m   \u001b[0m   virtual std::vector<std::vector<std::vector<std::pair<const char *, float>>>>\n",
      "  \u001b[31m   \u001b[0m                                                                              ^~\n",
      "  \u001b[31m   \u001b[0m                                                                              > >\n",
      "  \u001b[31m   \u001b[0m /usr/local/include/tesseract/resultiterator.h:96:64: error: a space is required between consecutive right angle brackets (use '> >')\n",
      "  \u001b[31m   \u001b[0m   virtual std::vector<std::vector<std::pair<const char *, float>>>\n",
      "  \u001b[31m   \u001b[0m                                                                ^~\n",
      "  \u001b[31m   \u001b[0m                                                                > >\n",
      "  \u001b[31m   \u001b[0m In file included from tesseract_ocr.cpp:265:\n",
      "  \u001b[31m   \u001b[0m /usr/local/include/tesseract/baseapi.h:61:20: warning: alias declarations are a C++11 extension [-Wc++11-extensions]\n",
      "  \u001b[31m   \u001b[0m using FileReader = bool (*)(const char *filename, std::vector<char> *data);\n",
      "  \u001b[31m   \u001b[0m                    ^\n",
      "  \u001b[31m   \u001b[0m /usr/local/include/tesseract/baseapi.h:63:18: warning: alias declarations are a C++11 extension [-Wc++11-extensions]\n",
      "  \u001b[31m   \u001b[0m using DictFunc = int (Dict::*)(void *, const UNICHARSET &, UNICHAR_ID,\n",
      "  \u001b[31m   \u001b[0m                  ^\n",
      "  \u001b[31m   \u001b[0m /usr/local/include/tesseract/baseapi.h:65:34: warning: alias declarations are a C++11 extension [-Wc++11-extensions]\n",
      "  \u001b[31m   \u001b[0m using ProbabilityInContextFunc = double (Dict::*)(const char *, const char *,\n",
      "  \u001b[31m   \u001b[0m                                  ^\n",
      "  \u001b[31m   \u001b[0m /usr/local/include/tesseract/baseapi.h:81:38: warning: deleted function definitions are a C++11 extension [-Wc++11-extensions]\n",
      "  \u001b[31m   \u001b[0m   TessBaseAPI(TessBaseAPI const &) = delete;\n",
      "  \u001b[31m   \u001b[0m                                      ^\n",
      "  \u001b[31m   \u001b[0m /usr/local/include/tesseract/baseapi.h:82:49: warning: deleted function definitions are a C++11 extension [-Wc++11-extensions]\n",
      "  \u001b[31m   \u001b[0m   TessBaseAPI &operator=(TessBaseAPI const &) = delete;\n",
      "  \u001b[31m   \u001b[0m                                                 ^\n",
      "  \u001b[31m   \u001b[0m tesseract_ocr.cpp:683:23: error: expression is not assignable\n",
      "  \u001b[31m   \u001b[0m         Py_SIZE(list) = len+1;\n",
      "  \u001b[31m   \u001b[0m         ~~~~~~~~~~~~~ ^\n",
      "  \u001b[31m   \u001b[0m tesseract_ocr.cpp:1369:15: error: overload resolution selected deleted operator '='\n",
      "  \u001b[31m   \u001b[0m     __pyx_t_1 = tesseract::TessBaseAPI();\n",
      "  \u001b[31m   \u001b[0m     ~~~~~~~~~ ^ ~~~~~~~~~~~~~~~~~~~~~~~~\n",
      "  \u001b[31m   \u001b[0m /usr/local/include/tesseract/baseapi.h:82:16: note: candidate function has been explicitly deleted\n",
      "  \u001b[31m   \u001b[0m   TessBaseAPI &operator=(TessBaseAPI const &) = delete;\n",
      "  \u001b[31m   \u001b[0m                ^\n",
      "  \u001b[31m   \u001b[0m tesseract_ocr.cpp:1374:22: error: overload resolution selected deleted operator '='\n",
      "  \u001b[31m   \u001b[0m   __pyx_v_self->_api = __pyx_t_1;\n",
      "  \u001b[31m   \u001b[0m   ~~~~~~~~~~~~~~~~~~ ^ ~~~~~~~~~\n",
      "  \u001b[31m   \u001b[0m /usr/local/include/tesseract/baseapi.h:82:16: note: candidate function has been explicitly deleted\n",
      "  \u001b[31m   \u001b[0m   TessBaseAPI &operator=(TessBaseAPI const &) = delete;\n",
      "  \u001b[31m   \u001b[0m                ^\n",
      "  \u001b[31m   \u001b[0m tesseract_ocr.cpp:1566:19: warning: 'Py_OptimizeFlag' is deprecated [-Wdeprecated-declarations]\n",
      "  \u001b[31m   \u001b[0m     if (unlikely(!Py_OptimizeFlag)) {\n",
      "  \u001b[31m   \u001b[0m                   ^\n",
      "  \u001b[31m   \u001b[0m /Library/Frameworks/Python.framework/Versions/3.12/include/python3.12/cpython/pydebug.h:13:1: note: 'Py_OptimizeFlag' has been explicitly marked deprecated here\n",
      "  \u001b[31m   \u001b[0m Py_DEPRECATED(3.12) PyAPI_DATA(int) Py_OptimizeFlag;\n",
      "  \u001b[31m   \u001b[0m ^\n",
      "  \u001b[31m   \u001b[0m /Library/Frameworks/Python.framework/Versions/3.12/include/python3.12/pyport.h:317:54: note: expanded from macro 'Py_DEPRECATED'\n",
      "  \u001b[31m   \u001b[0m #define Py_DEPRECATED(VERSION_UNUSED) __attribute__((__deprecated__))\n",
      "  \u001b[31m   \u001b[0m                                                      ^\n",
      "  \u001b[31m   \u001b[0m tesseract_ocr.cpp:1639:19: warning: 'Py_OptimizeFlag' is deprecated [-Wdeprecated-declarations]\n",
      "  \u001b[31m   \u001b[0m     if (unlikely(!Py_OptimizeFlag)) {\n",
      "  \u001b[31m   \u001b[0m                   ^\n",
      "  \u001b[31m   \u001b[0m /Library/Frameworks/Python.framework/Versions/3.12/include/python3.12/cpython/pydebug.h:13:1: note: 'Py_OptimizeFlag' has been explicitly marked deprecated here\n",
      "  \u001b[31m   \u001b[0m Py_DEPRECATED(3.12) PyAPI_DATA(int) Py_OptimizeFlag;\n",
      "  \u001b[31m   \u001b[0m ^\n",
      "  \u001b[31m   \u001b[0m /Library/Frameworks/Python.framework/Versions/3.12/include/python3.12/pyport.h:317:54: note: expanded from macro 'Py_DEPRECATED'\n",
      "  \u001b[31m   \u001b[0m #define Py_DEPRECATED(VERSION_UNUSED) __attribute__((__deprecated__))\n",
      "  \u001b[31m   \u001b[0m                                                      ^\n",
      "  \u001b[31m   \u001b[0m tesseract_ocr.cpp:3395:40: error: no member named 'tp_print' in '_typeobject'\n",
      "  \u001b[31m   \u001b[0m   __pyx_type_13tesseract_ocr_Tesseract.tp_print = 0;\n",
      "  \u001b[31m   \u001b[0m   ~~~~~~~~~~~~~~~~~~~~~~~~~~~~~~~~~~~~ ^\n",
      "  \u001b[31m   \u001b[0m tesseract_ocr.cpp:3566:16: error: use of undeclared identifier 'PyUnicode_FromUnicode'\n",
      "  \u001b[31m   \u001b[0m         return PyUnicode_FromUnicode(NULL, 0);\n",
      "  \u001b[31m   \u001b[0m                ^\n",
      "  \u001b[31m   \u001b[0m fatal error: too many errors emitted, stopping now [-ferror-limit=]\n",
      "  \u001b[31m   \u001b[0m 20 warnings and 20 errors generated.\n",
      "  \u001b[31m   \u001b[0m error: command '/usr/bin/clang++' failed with exit code 1\n",
      "  \u001b[31m   \u001b[0m \u001b[31m[end of output]\u001b[0m\n",
      "  \n",
      "  \u001b[1;35mnote\u001b[0m: This error originates from a subprocess, and is likely not a problem with pip.\n",
      "\u001b[?25h\u001b[31m  ERROR: Failed building wheel for tesseract-ocr\u001b[0m\u001b[31m\n",
      "\u001b[0mFailed to build tesseract-ocr\n",
      "\u001b[31mERROR: Could not build wheels for tesseract-ocr, which is required to install pyproject.toml-based projects\u001b[0m\u001b[31m\n",
      "\u001b[0m\n",
      "\u001b[1m[\u001b[0m\u001b[34;49mnotice\u001b[0m\u001b[1;39;49m]\u001b[0m\u001b[39;49m A new release of pip is available: \u001b[0m\u001b[31;49m24.0\u001b[0m\u001b[39;49m -> \u001b[0m\u001b[32;49m24.2\u001b[0m\n",
      "\u001b[1m[\u001b[0m\u001b[34;49mnotice\u001b[0m\u001b[1;39;49m]\u001b[0m\u001b[39;49m To update, run: \u001b[0m\u001b[32;49mpip install --upgrade pip\u001b[0m\n",
      "Note: you may need to restart the kernel to use updated packages.\n"
     ]
    }
   ],
   "source": [
    "%pip install tesseract-ocr"
   ]
  },
  {
   "cell_type": "code",
   "execution_count": 47,
   "metadata": {},
   "outputs": [
    {
     "name": "stdout",
     "output_type": "stream",
     "text": [
      "Requirement already satisfied: pytesseract in /Users/abirsleem/Documents/Abir/NewJOB/RadicalAIInternship/kai-ai-backend/env/lib/python3.12/site-packages (0.3.13)\n",
      "Requirement already satisfied: packaging>=21.3 in /Users/abirsleem/Documents/Abir/NewJOB/RadicalAIInternship/kai-ai-backend/env/lib/python3.12/site-packages (from pytesseract) (24.1)\n",
      "Requirement already satisfied: Pillow>=8.0.0 in /Users/abirsleem/Documents/Abir/NewJOB/RadicalAIInternship/kai-ai-backend/env/lib/python3.12/site-packages (from pytesseract) (10.4.0)\n",
      "\n",
      "\u001b[1m[\u001b[0m\u001b[34;49mnotice\u001b[0m\u001b[1;39;49m]\u001b[0m\u001b[39;49m A new release of pip is available: \u001b[0m\u001b[31;49m24.0\u001b[0m\u001b[39;49m -> \u001b[0m\u001b[32;49m24.2\u001b[0m\n",
      "\u001b[1m[\u001b[0m\u001b[34;49mnotice\u001b[0m\u001b[1;39;49m]\u001b[0m\u001b[39;49m To update, run: \u001b[0m\u001b[32;49mpip install --upgrade pip\u001b[0m\n",
      "Note: you may need to restart the kernel to use updated packages.\n"
     ]
    }
   ],
   "source": [
    "%pip install pytesseract"
   ]
  },
  {
   "cell_type": "code",
   "execution_count": 48,
   "metadata": {},
   "outputs": [],
   "source": [
    "from langchain_community.document_loaders.image import UnstructuredImageLoader"
   ]
  },
  {
   "cell_type": "code",
   "execution_count": 37,
   "metadata": {},
   "outputs": [
    {
     "ename": "NameError",
     "evalue": "name 'FileHandler' is not defined",
     "output_type": "error",
     "traceback": [
      "\u001b[0;31m---------------------------------------------------------------------------\u001b[0m",
      "\u001b[0;31mNameError\u001b[0m                                 Traceback (most recent call last)",
      "Cell \u001b[0;32mIn[37], line 5\u001b[0m\n\u001b[1;32m      2\u001b[0m image_url \u001b[38;5;241m=\u001b[39m \u001b[38;5;124m\"\u001b[39m\u001b[38;5;124mhttps://media.geeksforgeeks.org/wp-content/uploads/20190530190230/General-working-of-OCR-3.jpg\u001b[39m\u001b[38;5;124m\"\u001b[39m\n\u001b[1;32m      4\u001b[0m \u001b[38;5;66;03m# Create a FileHandler instance for images\u001b[39;00m\n\u001b[0;32m----> 5\u001b[0m image_handler \u001b[38;5;241m=\u001b[39m \u001b[43mFileHandler\u001b[49m(UnstructuredImageLoader, \u001b[38;5;124m'\u001b[39m\u001b[38;5;124mjpg\u001b[39m\u001b[38;5;124m'\u001b[39m)\n\u001b[1;32m      7\u001b[0m \u001b[38;5;28;01mtry\u001b[39;00m:\n\u001b[1;32m      8\u001b[0m     \u001b[38;5;66;03m# Use FileHandler to load the image\u001b[39;00m\n\u001b[1;32m      9\u001b[0m     data \u001b[38;5;241m=\u001b[39m image_handler\u001b[38;5;241m.\u001b[39mload(image_url)\n",
      "\u001b[0;31mNameError\u001b[0m: name 'FileHandler' is not defined"
     ]
    }
   ],
   "source": [
    "# Image URL\n",
    "image_url = \"https://media.geeksforgeeks.org/wp-content/uploads/20190530190230/General-working-of-OCR-3.jpg\"\n",
    "\n",
    "# Create a FileHandler instance for images\n",
    "image_handler = FileHandler(UnstructuredImageLoader, 'jpg')\n",
    "\n",
    "try:\n",
    "    # Use FileHandler to load the image\n",
    "    data = image_handler.load(image_url)\n",
    "    print(\"Image data loaded successfully!\")\n",
    "    print(data)\n",
    "\n",
    "except requests.exceptions.RequestException as e:\n",
    "    print(f\"Error downloading the image: {e}\")\n",
    "except UnidentifiedImageError as e:\n",
    "    print(f\"Error: The image could not be identified: {e}\")\n",
    "except Exception as e:\n",
    "    print(f\"An unexpected error occurred: {e}\")"
   ]
  },
  {
   "cell_type": "code",
   "execution_count": null,
   "metadata": {},
   "outputs": [
    {
     "name": "stdout",
     "output_type": "stream",
     "text": [
      "Image data loaded successfully!\n",
      "[Document(metadata={'source': '/tmp/temp_image.jpg'}, page_content='General working of OCR\\n\\nconvert to Image grayscale passed as Input Pre-process image data Detect lines, words and characters Text produced as Output setDataPath() Produce ranked Post process list of candidate -——)_—srecognized characters characters grammar rules')]\n"
     ]
    }
   ],
   "source": [
    "import requests\n",
    "from io import BytesIO\n",
    "from PIL import Image\n",
    "from PIL import UnidentifiedImageError\n",
    "\n",
    "\n",
    "# URL of the image\n",
    "image_url = \"https://media.geeksforgeeks.org/wp-content/uploads/20190530190230/General-working-of-OCR-3.jpg\"\n",
    "try:\n",
    "    # Download the image\n",
    "    response = requests.get(image_url)\n",
    "    response.raise_for_status()  # Check if the request was successful\n",
    "\n",
    "    # Open the image from the downloaded content\n",
    "    image = Image.open(BytesIO(response.content))\n",
    "\n",
    "    # Save the image temporarily\n",
    "    temp_image_path = \"/tmp/temp_image.jpg\"\n",
    "    image.save(temp_image_path)\n",
    "\n",
    "    # Load the image using UnstructuredImageLoader\n",
    "    loader = UnstructuredImageLoader(file_path=temp_image_path)\n",
    "    data = loader.load()\n",
    "\n",
    "    print(\"Image data loaded successfully!\")\n",
    "    print(data)\n",
    "\n",
    "except requests.exceptions.RequestException as e:\n",
    "    print(f\"Error downloading the image: {e}\")\n",
    "except UnidentifiedImageError as e:\n",
    "    print(f\"Error: The image could not be identified: {e}\")\n",
    "except Exception as e:\n",
    "    print(f\"An unexpected error occurred: {e}\")"
   ]
  },
  {
   "cell_type": "code",
   "execution_count": 49,
   "metadata": {},
   "outputs": [
    {
     "name": "stdout",
     "output_type": "stream",
     "text": [
      "/var/folders/y5/3b88q7jx0ygbly546r1bj8tm0000gn/T/6b019c86-e2a3-4a04-8871-c6af66c14716.jpgoz4p_ps_.jpg\n"
     ]
    },
    {
     "name": "stderr",
     "output_type": "stream",
     "text": [
      "/Users/abirsleem/Documents/Abir/NewJOB/RadicalAIInternship/kai-ai-backend/env/lib/python3.12/site-packages/tqdm/auto.py:21: TqdmWarning: IProgress not found. Please update jupyter and ipywidgets. See https://ipywidgets.readthedocs.io/en/stable/user_install.html\n",
      "  from .autonotebook import tqdm as notebook_tqdm\n"
     ]
    },
    {
     "name": "stdout",
     "output_type": "stream",
     "text": [
      "Image data loaded successfully!\n",
      "[Document(metadata={'source': '/var/folders/y5/3b88q7jx0ygbly546r1bj8tm0000gn/T/6b019c86-e2a3-4a04-8871-c6af66c14716.jpgoz4p_ps_.jpg'}, page_content='General working of OCR\\n\\nconvert to Image grayscale passed as Input Pre-process image data Detect lines, words and characters Text produced as Output setDataPath() Produce ranked Post process list of candidate -——)_—srecognized characters characters grammar rules')]\n"
     ]
    }
   ],
   "source": [
    "import os\n",
    "import tempfile\n",
    "import uuid\n",
    "import requests\n",
    "from io import BytesIO\n",
    "from PIL import Image, UnidentifiedImageError\n",
    "from langchain_community.document_loaders.image import UnstructuredImageLoader\n",
    "\n",
    "class ImageHandler:\n",
    "    def __init__(self, file_loader, file_extension):\n",
    "        self.file_loader = file_loader\n",
    "        self.file_extension = file_extension\n",
    "\n",
    "    def load(self, url):\n",
    "        # Generate a unique filename with a UUID prefix\n",
    "        unique_filename = f\"{uuid.uuid4()}.{self.file_extension}\"\n",
    "\n",
    "        # Download the image file from the URL\n",
    "        response = requests.get(url)\n",
    "        response.raise_for_status()  # Ensure the request was successful\n",
    "\n",
    "        try:\n",
    "            # Open the image from the downloaded content\n",
    "            image = Image.open(BytesIO(response.content))\n",
    "\n",
    "            # Save the image temporarily\n",
    "            with tempfile.NamedTemporaryFile(delete=False, prefix=unique_filename, suffix=f\".{self.file_extension}\") as temp_file:\n",
    "                image.save(temp_file)\n",
    "                temp_image_path = temp_file.name\n",
    "\n",
    "            # Use the file_loader to load the documents\n",
    "            loader = self.file_loader(file_path=temp_image_path)\n",
    "            print(temp_image_path)\n",
    "            documents = loader.load()\n",
    "\n",
    "            # Remove the temporary file\n",
    "            os.remove(temp_image_path)\n",
    "\n",
    "            return documents\n",
    "\n",
    "        except UnidentifiedImageError as e:\n",
    "            print(f\"Error: The image could not be identified: {e}\")\n",
    "            return []\n",
    "\n",
    "# URL of the image\n",
    "image_url = \"https://media.geeksforgeeks.org/wp-content/uploads/20190530190230/General-working-of-OCR-3.jpg\"\n",
    "\n",
    "# Create a FileHandler instance for images\n",
    "image_handler = ImageHandler(UnstructuredImageLoader, 'jpg')\n",
    "\n",
    "try:\n",
    "    # Use FileHandler to load the image\n",
    "    data = image_handler.load(image_url)\n",
    "\n",
    "    print(\"Image data loaded successfully!\")\n",
    "    print(data)\n",
    "\n",
    "except requests.exceptions.RequestException as e:\n",
    "    print(f\"Error downloading the image: {e}\")\n",
    "except UnidentifiedImageError as e:\n",
    "    print(f\"Error: The image could not be identified: {e}\")\n",
    "except Exception as e:\n",
    "    print(f\"An unexpected error occurred: {e}\")\n"
   ]
  },
  {
   "cell_type": "code",
   "execution_count": 50,
   "metadata": {},
   "outputs": [
    {
     "name": "stdout",
     "output_type": "stream",
     "text": [
      "Image data loaded successfully!\n",
      "General working of OCR\n",
      "\n",
      "convert to\n",
      "Image grayscale\n",
      "\n",
      "passed as\n",
      "Input\n",
      "\n",
      "Pre-process\n",
      "image data\n",
      "\n",
      "Detect lines,\n",
      "words and\n",
      "characters\n",
      "\n",
      "Text\n",
      "produced as\n",
      "Output\n",
      "\n",
      "setDataPath()\n",
      "\n",
      "Produce ranked Post process\n",
      "list of candidate -——)_—srecognized\n",
      "characters characters\n",
      "\n",
      "grammar rules\n",
      "\n",
      "\n"
     ]
    }
   ],
   "source": [
    "import os\n",
    "import tempfile\n",
    "import uuid\n",
    "import requests\n",
    "from io import BytesIO\n",
    "from PIL import Image, UnidentifiedImageError\n",
    "import pytesseract\n",
    "\n",
    "class ImageHandler:\n",
    "    def __init__(self, file_extension):\n",
    "        self.file_extension = file_extension\n",
    "\n",
    "    def load(self, url):\n",
    "        # Generate a unique filename with a UUID prefix\n",
    "        unique_filename = f\"{uuid.uuid4()}.{self.file_extension}\"\n",
    "\n",
    "        # Download the image file from the URL\n",
    "        response = requests.get(url)\n",
    "        response.raise_for_status()  # Ensure the request was successful\n",
    "\n",
    "        try:\n",
    "            # Open the image from the downloaded content\n",
    "            image = Image.open(BytesIO(response.content))\n",
    "\n",
    "            # Save the image temporarily\n",
    "            with tempfile.NamedTemporaryFile(delete=False, prefix=unique_filename, suffix=f\".{self.file_extension}\") as temp_file:\n",
    "                image.save(temp_file)\n",
    "                temp_image_path = temp_file.name\n",
    "\n",
    "            # Use pytesseract to extract text from the image\n",
    "            extracted_text = pytesseract.image_to_string(temp_image_path)\n",
    "\n",
    "            # Remove the temporary file\n",
    "            os.remove(temp_image_path)\n",
    "\n",
    "            return extracted_text\n",
    "\n",
    "        except UnidentifiedImageError as e:\n",
    "            print(f\"Error: The image could not be identified: {e}\")\n",
    "            return \"\"\n",
    "\n",
    "\n",
    "# URL of the image\n",
    "image_url = \"https://media.geeksforgeeks.org/wp-content/uploads/20190530190230/General-working-of-OCR-3.jpg\"\n",
    "\n",
    "# Create a FileHandler instance for images\n",
    "image_handler = ImageHandler('jpg')\n",
    "\n",
    "try:\n",
    "    # Use FileHandler to load the image\n",
    "    data = image_handler.load(image_url)\n",
    "\n",
    "    print(\"Image data loaded successfully!\")\n",
    "    print(data)\n",
    "\n",
    "except requests.exceptions.RequestException as e:\n",
    "    print(f\"Error downloading the image: {e}\")\n",
    "except UnidentifiedImageError as e:\n",
    "    print(f\"Error: The image could not be identified: {e}\")\n",
    "except Exception as e:\n",
    "    print(f\"An unexpected error occurred: {e}\")"
   ]
  },
  {
   "cell_type": "code",
   "execution_count": 51,
   "metadata": {},
   "outputs": [
    {
     "name": "stdout",
     "output_type": "stream",
     "text": [
      "Requirement already satisfied: SpeechRecognition in /Users/abirsleem/Documents/Abir/NewJOB/RadicalAIInternship/kai-ai-backend/env/lib/python3.12/site-packages (3.10.4)\n",
      "Requirement already satisfied: requests>=2.26.0 in /Users/abirsleem/Documents/Abir/NewJOB/RadicalAIInternship/kai-ai-backend/env/lib/python3.12/site-packages (from SpeechRecognition) (2.32.3)\n",
      "Requirement already satisfied: typing-extensions in /Users/abirsleem/Documents/Abir/NewJOB/RadicalAIInternship/kai-ai-backend/env/lib/python3.12/site-packages (from SpeechRecognition) (4.12.2)\n",
      "Requirement already satisfied: charset-normalizer<4,>=2 in /Users/abirsleem/Documents/Abir/NewJOB/RadicalAIInternship/kai-ai-backend/env/lib/python3.12/site-packages (from requests>=2.26.0->SpeechRecognition) (3.3.2)\n",
      "Requirement already satisfied: idna<4,>=2.5 in /Users/abirsleem/Documents/Abir/NewJOB/RadicalAIInternship/kai-ai-backend/env/lib/python3.12/site-packages (from requests>=2.26.0->SpeechRecognition) (3.7)\n",
      "Requirement already satisfied: urllib3<3,>=1.21.1 in /Users/abirsleem/Documents/Abir/NewJOB/RadicalAIInternship/kai-ai-backend/env/lib/python3.12/site-packages (from requests>=2.26.0->SpeechRecognition) (2.2.2)\n",
      "Requirement already satisfied: certifi>=2017.4.17 in /Users/abirsleem/Documents/Abir/NewJOB/RadicalAIInternship/kai-ai-backend/env/lib/python3.12/site-packages (from requests>=2.26.0->SpeechRecognition) (2024.7.4)\n",
      "\n",
      "\u001b[1m[\u001b[0m\u001b[34;49mnotice\u001b[0m\u001b[1;39;49m]\u001b[0m\u001b[39;49m A new release of pip is available: \u001b[0m\u001b[31;49m24.0\u001b[0m\u001b[39;49m -> \u001b[0m\u001b[32;49m24.2\u001b[0m\n",
      "\u001b[1m[\u001b[0m\u001b[34;49mnotice\u001b[0m\u001b[1;39;49m]\u001b[0m\u001b[39;49m To update, run: \u001b[0m\u001b[32;49mpip install --upgrade pip\u001b[0m\n",
      "Note: you may need to restart the kernel to use updated packages.\n",
      "Requirement already satisfied: pydub in /Users/abirsleem/Documents/Abir/NewJOB/RadicalAIInternship/kai-ai-backend/env/lib/python3.12/site-packages (0.25.1)\n",
      "\n",
      "\u001b[1m[\u001b[0m\u001b[34;49mnotice\u001b[0m\u001b[1;39;49m]\u001b[0m\u001b[39;49m A new release of pip is available: \u001b[0m\u001b[31;49m24.0\u001b[0m\u001b[39;49m -> \u001b[0m\u001b[32;49m24.2\u001b[0m\n",
      "\u001b[1m[\u001b[0m\u001b[34;49mnotice\u001b[0m\u001b[1;39;49m]\u001b[0m\u001b[39;49m To update, run: \u001b[0m\u001b[32;49mpip install --upgrade pip\u001b[0m\n",
      "Note: you may need to restart the kernel to use updated packages.\n"
     ]
    }
   ],
   "source": [
    "%pip install SpeechRecognition\n",
    "%pip install pydub\n"
   ]
  },
  {
   "cell_type": "code",
   "execution_count": 5,
   "metadata": {},
   "outputs": [
    {
     "name": "stdout",
     "output_type": "stream",
     "text": [
      "Collecting ffmpeg\n",
      "  Downloading ffmpeg-1.4.tar.gz (5.1 kB)\n",
      "  Installing build dependencies ... \u001b[?25ldone\n",
      "\u001b[?25h  Getting requirements to build wheel ... \u001b[?25ldone\n",
      "\u001b[?25h  Preparing metadata (pyproject.toml) ... \u001b[?25ldone\n",
      "\u001b[?25hBuilding wheels for collected packages: ffmpeg\n",
      "  Building wheel for ffmpeg (pyproject.toml) ... \u001b[?25ldone\n",
      "\u001b[?25h  Created wheel for ffmpeg: filename=ffmpeg-1.4-py3-none-any.whl size=6083 sha256=b07cb2ef10f61a6ace408b5078d0042a0ca3baf689b17f82f642a98ccd380739\n",
      "  Stored in directory: /Users/abirsleem/Library/Caches/pip/wheels/26/21/0c/c26e09dff860a9071683e279445262346e008a9a1d2142c4ad\n",
      "Successfully built ffmpeg\n",
      "Installing collected packages: ffmpeg\n",
      "Successfully installed ffmpeg-1.4\n",
      "\n",
      "\u001b[1m[\u001b[0m\u001b[34;49mnotice\u001b[0m\u001b[1;39;49m]\u001b[0m\u001b[39;49m A new release of pip is available: \u001b[0m\u001b[31;49m24.0\u001b[0m\u001b[39;49m -> \u001b[0m\u001b[32;49m24.2\u001b[0m\n",
      "\u001b[1m[\u001b[0m\u001b[34;49mnotice\u001b[0m\u001b[1;39;49m]\u001b[0m\u001b[39;49m To update, run: \u001b[0m\u001b[32;49mpip install --upgrade pip\u001b[0m\n",
      "Note: you may need to restart the kernel to use updated packages.\n"
     ]
    }
   ],
   "source": [
    "%pip install ffmpeg"
   ]
  },
  {
   "cell_type": "code",
   "execution_count": 44,
   "metadata": {},
   "outputs": [
    {
     "name": "stdout",
     "output_type": "stream",
     "text": [
      "Transcription successful!\n",
      "this is an example of synthesized speech that was created by a neural vocoder\n"
     ]
    }
   ],
   "source": [
    "\n",
    "import speech_recognition as sr\n",
    "from pydub import AudioSegment\n",
    "import os\n",
    "\n",
    "# Specify the path to the local audio file\n",
    "audio_file_path = \"/Users/abirsleem/Documents/Abir/NewJOB/RadicalAIInternship/kai-ai-backend/app/features/quizzify/testfiles/A-law_audio_demo.flac\"\n",
    "# Convert audio to a format supported by SpeechRecognition (WAV)\n",
    "# pydub will automatically detect the format from the file extension\n",
    "audio = AudioSegment.from_file(audio_file_path)\n",
    "audio = audio.set_frame_rate(16000)  # Adjust to 16kHz for better recognition\n",
    "wav_file = \"/Users/abirsleem/Documents/Abir/NewJOB/RadicalAIInternship/kai-ai-backend/app/features/quizzify/testfiles/converted_audio.wav\"\n",
    "audio.export(wav_file, format=\"wav\")\n",
    "\n",
    "# Load the converted audio file into SpeechRecognition\n",
    "recognizer = sr.Recognizer()\n",
    "\n",
    "try:\n",
    "    with sr.AudioFile(wav_file) as source:\n",
    "        audio_data = recognizer.record(source)  # Read the entire audio file\n",
    "        text = recognizer.recognize_google(audio_data)  # Use Google Web Speech API\n",
    "        print(\"Transcription successful!\")\n",
    "        print(text)\n",
    "except sr.UnknownValueError:\n",
    "    print(\"Google Speech Recognition could not understand the audio.\")\n",
    "except sr.RequestError as e:\n",
    "    print(f\"Could not request results from Google Speech Recognition service; {e}\")\n",
    "except Exception as e:\n",
    "    print(f\"An unexpected error occurred: {e}\")\n",
    "\n",
    "# Clean up by removing the temporary WAV file\n",
    "os.remove(wav_file)\n"
   ]
  },
  {
   "cell_type": "code",
   "execution_count": 26,
   "metadata": {},
   "outputs": [
    {
     "name": "stdout",
     "output_type": "stream",
     "text": [
      "Exported chunk 0 to audio_chunks/chunk_0.wav\n",
      "Transcription for chunk 0 successful!\n",
      "this is a LibriVox recording all LibriVox recordings are in the public domain for more information or to volunteer please visit librivox.org recording by Barbara wedge Richmond Virginia introduction from Mother Goose and prose by Al frank Baum none of us whether children or adults needs an introduction to Mother Goose those things which are earliest impressed Upon Our Minds cling to them most tenaciously the snatches song in the nursery are never forgotten nor are they ever recalled without bringing back with them married to slumbering feelings and have forgotten images we hear the sweet low voice of the mother singing soft lullabies to her darling and see the kindly wrinkled face of the grandmother's to quiet our Restless Spirits one generation is linked to another by\n",
      "Exported chunk 1 to audio_chunks/chunk_1.wav\n",
      "Transcription for chunk 1 successful!\n",
      "play Everlasting Spirit of song The Ballads of the nursery follow us from childhood to old age and they are readily brought from memories recesses at any time to amuse our children or our grandchildren the collection of Jingles we know and love as The Melodies of Mother Goose are evidently drawn from a variety of sources while they are taken altogether a happy Union of rhyme with pathos satire and sentiment the research after the author of each individual verse would indeed be hopeless it would be Folly to suppose them all the composition of uneducated nurses for many of them can contain much reflection which and Melody it is said that Shelly wrote pussycat Mew and Swift Little Bo Peep and these assertions are as difficult to disprove as to prove some of the older verses however are dealt with shoes from ancient folklore songs and have to send it to us through many centuries\n",
      "Exported chunk 2 to audio_chunks/chunk_2.wav\n",
      "Transcription for chunk 2 successful!\n",
      "the connection of Mother Goose with the Rhymes which bear her name is difficult to determine and in fact three countries claimed her for their own France England and America about the year 1650 there appeared in circulation in London a small book named rhymes of the nursery or lullabies for children which contained many of the identical pieces that have been handed down to us but the name of Mother Goose was evidently not then known in this Edition where the rhymes of little Jack Homer Old King Cole mistress Mary sing a song of sixpence and little boy blue in 1697 Charles publishing France a book of children's and this is really the first time we find authentic record of the use of the name of Mother Goose although Heroes different materially from those we now know on the title they comprise\n",
      "Exported chunk 3 to audio_chunks/chunk_3.wav\n",
      "Transcription for chunk 3 successful!\n",
      "the Sleeping Beauty the fairy Little Red Riding Hood Bluebeard Puss in Boots rocket with the tuft Cinderella and Little thumb 8 stories and all on the cover of the book was depicted in old lady holding in her hand at the staff and surrounded by a group of children listening eagerly Mr Andrew Lang has edited a beautiful English edition of this work Oxford 1888 America bases her claim to Mother Goose upon the following statement made by the late John Fleet Elliott a descendant of Thomas Fleet the printer at the beginning of the 18th century lived in Boston a lady named Eliza ghost and vertigo's who belong to a wealthy family her eldest daughter Elizabeth Goose was married by Reverend Cotton Mather in 1715 to an Enterprise printer named Thomas Flay\n",
      "Exported chunk 4 to audio_chunks/chunk_4.wav\n",
      "Transcription for chunk 4 successful!\n",
      "and in due time give birth to a son like most mothers-in-law in our day the importance of Mrs Goose increased with the appearance of her grandchild and poor Mr Fleet have distracted with her endless Nursery duties finding all other means fail tried what ridicule could affect and actually printed a book under the title songs of the nursery or mother gooses melodies for children on the title page was the picture of a goose with a very long neck and a mouth wide open and blow this printed by T Fleet at his printing house in putting Lane 17919 price to Copperas Mr William a Wheeler the editor of and how to celebrate edition of Mother Goose 1870 reiterated in the Boston transcript of June 17th 1864 says fleet's book was partly a reprint of an English collection of songs Barkley's and the new title was\n",
      "Exported chunk 5 to audio_chunks/chunk_5.wav\n",
      "Transcription for chunk 5 successful!\n",
      "Melissa compliment by the printer to his mother-in-law Goose for her contributions she was the mother of 16 and a typical old woman who lived in a shoe we may take it to be true that fleet's wife was of the Virgos family and that the name was often contracted to Goose but the rest of the story is unsupported by any evidence whatever in fact all that Mr Elliott knew of it was the statement of the late Edward a crown and shield of Boston that he had seen fleets Edition in the library of the American antiquarian society repeated researchers at Worcester having failed to bring to light the supposed to copy and no record of it appearing on any catalog there we may dismiss the entire story with the supposition that Mr Elliott misunderstood the remarks made to him indeed as Mister Williams 1889 it is very doubtful whether in 1719\n",
      "Exported chunk 6 to audio_chunks/chunk_6.wav\n",
      "Transcription for chunk 6 successful!\n",
      "watch trivial Rhymes Boston children at that date says Mr Whitmore were fed upon gospel food and it seems extremely improbable that in addition could have been sold singularly enough England's claim to this venerable old lady is of about the same date as Boston's there lived in a town in Sussex about the year 1704 an old woman named Martha Gooch she was a capital nurse and in great demand to care for newborn babies therefore through long years of services nurse she came to be called Mother Goose this good woman had one peculiarity she was a custom to crooner Rhymes and Jingles over the cradles of her charges and these Rhymes seem so senseless and silly to the people who overheard them that they began to call her mother goose in derision the term being drive from Queen goo goo the mother of Charlamagne the old nurse paid no attention to her critics but continue to\n",
      "Exported chunk 7 to audio_chunks/chunk_7.wav\n",
      "Transcription for chunk 7 successful!\n",
      "the children seem to enjoy them very much and not one of them was 2Pac to be quiet and soothed by her verses at one time Mr scooch was nursing a child of Mr Ronald Barkley a physician residing in the town and he noticed the Rimes she sang and became interested in them in time he wrote them all down and made a book of them which it is said was printed by John Worthington and son in the Strand London in 1712 under the name of melodious rhymes of Mother Goose but even the story of Martha Gooch is based upon very Meeker and on Spotify evidence the earliest English edition of mother Goose's Melodies that is absolutely authentic was issued by John Newbery of London about the year 1760 and the first authentic American Edition was a reprint of newberry's made by Isaiah Thomas of Worcester Massachusetts\n",
      "Exported chunk 8 to audio_chunks/chunk_8.wav\n",
      "Transcription for chunk 8 successful!\n",
      "set in 1785 none of the earlier editions however contained all the rhyme so well known that the present day since every decade has added its quota to the mass of Jingles attributed to Mother Goose some of the earlier verses have become entirely Obsolete and it is well they have for many were crude and silly and others were course it is simply a result of the greater refinement of modern civilization that they have been relegated to Oblivion while the real gems of the collection will dealt with live and grow in popular favor for many ages while I have taken some pains to record the various claims to the origin of Mother Goose it does not matter in the least whether she was in reality a myth or a living Goose Martha Gooch or the male of Peru the songs that cluster around her name or what we love and each individual versus appeals more to the childish mind\n",
      "Exported chunk 9 to audio_chunks/chunk_9.wav\n",
      "Transcription for chunk 9 successful!\n",
      "many of these nursery rhymes are complete tales in themselves telling their story tersely but completely there are others which are but bear suggestions leaving the imagination to weave in the details of the story perhaps they're in my life part of their charm but however that may be I have thought the children might like the stories told at greater length that they may dwell the longer upon their favorite Heroes and heroines for that reason I have written this book in making the stories I have followed mainly the suggestions of the Rhymes and my hope is that the little ones will like them and not find that they interfere with the fanciful creations of their own imaginations L frank bomb Chicago Illinois September 1897 end of the introduction\n"
     ]
    }
   ],
   "source": [
    "import speech_recognition as sr\n",
    "from pydub import AudioSegment\n",
    "from pydub.utils import make_chunks\n",
    "import os\n",
    "\n",
    "# Load the mp3 file\n",
    "audio_file_path = \"/Users/abirsleem/Documents/Abir/NewJOB/RadicalAIInternship/kai-ai-backend/app/features/quizzify/testfiles/mother_goose.mp3\"\n",
    "audio = AudioSegment.from_mp3(audio_file_path)\n",
    "\n",
    "# Export as WAV to ensure compatibility\n",
    "wav_file_path = \"temp_audio.wav\"\n",
    "audio.export(wav_file_path, format=\"wav\")\n",
    "\n",
    "# Define the path for the new directory\n",
    "output_dir = \"audio_chunks\"\n",
    "\n",
    "# Create the directory if it doesn't exist\n",
    "if not os.path.exists(output_dir):\n",
    "    os.makedirs(output_dir)\n",
    "\n",
    "\n",
    "# Split the audio into 2-minute chunks\n",
    "chunk_length_ms = 60000  # 2 minute\n",
    "chunks = make_chunks(audio, chunk_length_ms)\n",
    "\n",
    "# Process each chunk individually\n",
    "recognizer = sr.Recognizer()\n",
    "for i, chunk in enumerate(chunks):\n",
    "    chunk_file_path = os.path.join(output_dir, f\"chunk_{i}.wav\")\n",
    "    chunk.export(chunk_file_path, format=\"wav\")\n",
    "    print(f\"Exported chunk {i} to {chunk_file_path}\")\n",
    "    \n",
    "    try:\n",
    "        with sr.AudioFile(chunk_file_path) as source:\n",
    "            audio_data = recognizer.record(source)  # Read the chunk\n",
    "            text = recognizer.recognize_google(audio_data)  # Use Google Web Speech API\n",
    "            print(f\"Transcription for chunk {i} successful!\")\n",
    "            print(text)\n",
    "    except sr.UnknownValueError:\n",
    "        print(f\"Google Speech Recognition could not understand chunk {i}.\")\n",
    "    except sr.RequestError as e:\n",
    "        print(f\"Could not request results from Google Speech Recognition service for chunk {i}; {e}\")\n",
    "    except Exception as e:\n",
    "        print(f\"An unexpected error occurred for chunk {i}: {e}\")\n"
   ]
  },
  {
   "cell_type": "code",
   "execution_count": 27,
   "metadata": {},
   "outputs": [
    {
     "name": "stdout",
     "output_type": "stream",
     "text": [
      "Requirement already satisfied: pydub in /Users/abirsleem/Documents/Abir/NewJOB/RadicalAIInternship/kai-ai-backend/env/lib/python3.12/site-packages (0.25.1)\n",
      "Requirement already satisfied: speechrecognition in /Users/abirsleem/Documents/Abir/NewJOB/RadicalAIInternship/kai-ai-backend/env/lib/python3.12/site-packages (3.10.4)\n",
      "Requirement already satisfied: google-cloud-speech in /Users/abirsleem/Documents/Abir/NewJOB/RadicalAIInternship/kai-ai-backend/env/lib/python3.12/site-packages (2.27.0)\n",
      "Requirement already satisfied: requests>=2.26.0 in /Users/abirsleem/Documents/Abir/NewJOB/RadicalAIInternship/kai-ai-backend/env/lib/python3.12/site-packages (from speechrecognition) (2.32.3)\n",
      "Requirement already satisfied: typing-extensions in /Users/abirsleem/Documents/Abir/NewJOB/RadicalAIInternship/kai-ai-backend/env/lib/python3.12/site-packages (from speechrecognition) (4.12.2)\n",
      "Requirement already satisfied: google-api-core!=2.0.*,!=2.1.*,!=2.10.*,!=2.2.*,!=2.3.*,!=2.4.*,!=2.5.*,!=2.6.*,!=2.7.*,!=2.8.*,!=2.9.*,<3.0.0dev,>=1.34.1 in /Users/abirsleem/Documents/Abir/NewJOB/RadicalAIInternship/kai-ai-backend/env/lib/python3.12/site-packages (from google-api-core[grpc]!=2.0.*,!=2.1.*,!=2.10.*,!=2.2.*,!=2.3.*,!=2.4.*,!=2.5.*,!=2.6.*,!=2.7.*,!=2.8.*,!=2.9.*,<3.0.0dev,>=1.34.1->google-cloud-speech) (2.19.1)\n",
      "Requirement already satisfied: google-auth!=2.24.0,!=2.25.0,<3.0.0dev,>=2.14.1 in /Users/abirsleem/Documents/Abir/NewJOB/RadicalAIInternship/kai-ai-backend/env/lib/python3.12/site-packages (from google-cloud-speech) (2.34.0)\n",
      "Requirement already satisfied: proto-plus<2.0.0dev,>=1.22.3 in /Users/abirsleem/Documents/Abir/NewJOB/RadicalAIInternship/kai-ai-backend/env/lib/python3.12/site-packages (from google-cloud-speech) (1.24.0)\n",
      "Requirement already satisfied: protobuf!=4.21.0,!=4.21.1,!=4.21.2,!=4.21.3,!=4.21.4,!=4.21.5,<6.0.0dev,>=3.20.2 in /Users/abirsleem/Documents/Abir/NewJOB/RadicalAIInternship/kai-ai-backend/env/lib/python3.12/site-packages (from google-cloud-speech) (4.25.4)\n",
      "Requirement already satisfied: googleapis-common-protos<2.0.dev0,>=1.56.2 in /Users/abirsleem/Documents/Abir/NewJOB/RadicalAIInternship/kai-ai-backend/env/lib/python3.12/site-packages (from google-api-core!=2.0.*,!=2.1.*,!=2.10.*,!=2.2.*,!=2.3.*,!=2.4.*,!=2.5.*,!=2.6.*,!=2.7.*,!=2.8.*,!=2.9.*,<3.0.0dev,>=1.34.1->google-api-core[grpc]!=2.0.*,!=2.1.*,!=2.10.*,!=2.2.*,!=2.3.*,!=2.4.*,!=2.5.*,!=2.6.*,!=2.7.*,!=2.8.*,!=2.9.*,<3.0.0dev,>=1.34.1->google-cloud-speech) (1.63.2)\n",
      "Requirement already satisfied: grpcio<2.0dev,>=1.33.2 in /Users/abirsleem/Documents/Abir/NewJOB/RadicalAIInternship/kai-ai-backend/env/lib/python3.12/site-packages (from google-api-core[grpc]!=2.0.*,!=2.1.*,!=2.10.*,!=2.2.*,!=2.3.*,!=2.4.*,!=2.5.*,!=2.6.*,!=2.7.*,!=2.8.*,!=2.9.*,<3.0.0dev,>=1.34.1->google-cloud-speech) (1.65.5)\n",
      "Requirement already satisfied: grpcio-status<2.0.dev0,>=1.33.2 in /Users/abirsleem/Documents/Abir/NewJOB/RadicalAIInternship/kai-ai-backend/env/lib/python3.12/site-packages (from google-api-core[grpc]!=2.0.*,!=2.1.*,!=2.10.*,!=2.2.*,!=2.3.*,!=2.4.*,!=2.5.*,!=2.6.*,!=2.7.*,!=2.8.*,!=2.9.*,<3.0.0dev,>=1.34.1->google-cloud-speech) (1.62.3)\n",
      "Requirement already satisfied: cachetools<6.0,>=2.0.0 in /Users/abirsleem/Documents/Abir/NewJOB/RadicalAIInternship/kai-ai-backend/env/lib/python3.12/site-packages (from google-auth!=2.24.0,!=2.25.0,<3.0.0dev,>=2.14.1->google-cloud-speech) (5.5.0)\n",
      "Requirement already satisfied: pyasn1-modules>=0.2.1 in /Users/abirsleem/Documents/Abir/NewJOB/RadicalAIInternship/kai-ai-backend/env/lib/python3.12/site-packages (from google-auth!=2.24.0,!=2.25.0,<3.0.0dev,>=2.14.1->google-cloud-speech) (0.4.0)\n",
      "Requirement already satisfied: rsa<5,>=3.1.4 in /Users/abirsleem/Documents/Abir/NewJOB/RadicalAIInternship/kai-ai-backend/env/lib/python3.12/site-packages (from google-auth!=2.24.0,!=2.25.0,<3.0.0dev,>=2.14.1->google-cloud-speech) (4.9)\n",
      "Requirement already satisfied: charset-normalizer<4,>=2 in /Users/abirsleem/Documents/Abir/NewJOB/RadicalAIInternship/kai-ai-backend/env/lib/python3.12/site-packages (from requests>=2.26.0->speechrecognition) (3.3.2)\n",
      "Requirement already satisfied: idna<4,>=2.5 in /Users/abirsleem/Documents/Abir/NewJOB/RadicalAIInternship/kai-ai-backend/env/lib/python3.12/site-packages (from requests>=2.26.0->speechrecognition) (3.7)\n",
      "Requirement already satisfied: urllib3<3,>=1.21.1 in /Users/abirsleem/Documents/Abir/NewJOB/RadicalAIInternship/kai-ai-backend/env/lib/python3.12/site-packages (from requests>=2.26.0->speechrecognition) (2.2.2)\n",
      "Requirement already satisfied: certifi>=2017.4.17 in /Users/abirsleem/Documents/Abir/NewJOB/RadicalAIInternship/kai-ai-backend/env/lib/python3.12/site-packages (from requests>=2.26.0->speechrecognition) (2024.7.4)\n",
      "Requirement already satisfied: pyasn1<0.7.0,>=0.4.6 in /Users/abirsleem/Documents/Abir/NewJOB/RadicalAIInternship/kai-ai-backend/env/lib/python3.12/site-packages (from pyasn1-modules>=0.2.1->google-auth!=2.24.0,!=2.25.0,<3.0.0dev,>=2.14.1->google-cloud-speech) (0.6.0)\n",
      "\n",
      "\u001b[1m[\u001b[0m\u001b[34;49mnotice\u001b[0m\u001b[1;39;49m]\u001b[0m\u001b[39;49m A new release of pip is available: \u001b[0m\u001b[31;49m24.0\u001b[0m\u001b[39;49m -> \u001b[0m\u001b[32;49m24.2\u001b[0m\n",
      "\u001b[1m[\u001b[0m\u001b[34;49mnotice\u001b[0m\u001b[1;39;49m]\u001b[0m\u001b[39;49m To update, run: \u001b[0m\u001b[32;49mpip install --upgrade pip\u001b[0m\n",
      "Note: you may need to restart the kernel to use updated packages.\n"
     ]
    }
   ],
   "source": [
    "%pip install pydub speechrecognition google-cloud-speech\n"
   ]
  },
  {
   "cell_type": "code",
   "execution_count": 21,
   "metadata": {},
   "outputs": [
    {
     "name": "stdout",
     "output_type": "stream",
     "text": [
      "Conversion to WAV successful!\n"
     ]
    },
    {
     "name": "stderr",
     "output_type": "stream",
     "text": [
      "I0000 00:00:1724854014.643175 1801357 check_gcp_environment_no_op.cc:29] ALTS: Platforms other than Linux and Windows are not supported\n"
     ]
    },
    {
     "name": "stdout",
     "output_type": "stream",
     "text": [
      "Transcription for chunk 0 successful!\n",
      "this is a LibriVox recording all LibriVox recordings are in the public domain for more information or to volunteer please visit librivox.org recording by Barbara wedge Richmond Virginia introduction from Mother Goose and prose by lfrank bomb none of us whether children or adults needs an introduction to Mother Goose those things which are earliest impressed Upon Our Minds cling to them most tenaciously the snatches sung in the nursery are never forgotten nor are they ever recalled without bringing back with them marads of slumbering feelings and half-forgotten images we hear the sweet low voice of the mother singing soft lies to her darling and see the kindly wrinkled face of the grandmother as she crus the old diddies to quiet our Restless spirits 1 generation is linked to another by \n"
     ]
    },
    {
     "name": "stderr",
     "output_type": "stream",
     "text": [
      "I0000 00:00:1724854030.815836 1801357 check_gcp_environment_no_op.cc:29] ALTS: Platforms other than Linux and Windows are not supported\n"
     ]
    },
    {
     "name": "stdout",
     "output_type": "stream",
     "text": [
      "Transcription for chunk 1 successful!\n",
      "the Everlasting Spirit of song The Ballads of the nursery follow us from childhood to old age and they are readily brought from memories recesses at any time to amuse our children or our grandchildren the collection of Jingles we know and love as The Melodies of Mother Goose are evidently drawn from a variety of sources while they are taken altogether a happy Union of rhyme with pathos satire and sentiment the research after the author of each individual verse would indeed be hopeless it would be Folly to suppose them all the composition of uneducated old nurses for many of them contain much reflection wit and Melody it is said that Shelley wrote pussycat Mew and Dean Swift Little Bow Peep and these assertions are as difficult to disprove as to prove some of the older verses however are doubtless offshoots from ancient folklore songs and have descended to us through many centuries \n"
     ]
    },
    {
     "name": "stderr",
     "output_type": "stream",
     "text": [
      "I0000 00:00:1724854048.911855 1801357 check_gcp_environment_no_op.cc:29] ALTS: Platforms other than Linux and Windows are not supported\n"
     ]
    },
    {
     "name": "stdout",
     "output_type": "stream",
     "text": [
      "Transcription for chunk 2 successful!\n",
      "the connection of Mother Goose with the Rhymes which bear her name is difficult to determine and in fact 3 countries claimed her for their own France England and America about the year 1650 there appeared in circulation in London a small book named rhymes of the nursery or lies for children which contained many of the identical pieces that have been handed down to us but the name of Mother Goose was evidently not then known in this Edition where the rhymes of little Jack Homer Old King Cole mistress Mary sing a song of 6 Pence and Little Boy Blue in 1697 Charles Perrault published in France a book of children's tales entitled and this was really the first time we find authentic record of the use of the name of Mother Goose although purros Tales differ a materially from those we now know under the title we comprise \n"
     ]
    },
    {
     "name": "stderr",
     "output_type": "stream",
     "text": [
      "I0000 00:00:1724854069.283699 1801357 check_gcp_environment_no_op.cc:29] ALTS: Platforms other than Linux and Windows are not supported\n"
     ]
    },
    {
     "name": "stdout",
     "output_type": "stream",
     "text": [
      "Transcription for chunk 3 successful!\n",
      "the Sleeping Beauty the fairy Little Red Riding Hood Blue Beard Puss and Boots rake with the tuft Cinderella and Little thumb 8 stories and all on the cover of the book was depicted in old lady holding in her hand a distaff and surrounded by a group of children listening eagerly Mr Andrew Lang has edited a beautiful English edition of this work Oxford 1888 America bases her claim to Mother Goose upon the following statement made by the late John Fleet Elliot a descendant of Thomas Fleet the printer at the beginning of the 18th century there lived in Boston a lady named Eliza Goose written also for goose and vertigus who belonged to a wealthy family her eldest daughter Elizabeth Goose or vertigo was married by revlin Cotton Mather in 1715 to an enterprising and industrious printer named Thomas Fleet \n"
     ]
    },
    {
     "name": "stderr",
     "output_type": "stream",
     "text": [
      "I0000 00:00:1724854087.307723 1801357 check_gcp_environment_no_op.cc:29] ALTS: Platforms other than Linux and Windows are not supported\n"
     ]
    },
    {
     "name": "stdout",
     "output_type": "stream",
     "text": [
      "Transcription for chunk 4 successful!\n",
      "and in due time give birth to a son like most mothers in law in our day the importance of Mrs Goose increased with the appearance of her grandchild and poor Mr Fleet half distracted with her endless Nursery diddies finding all other means fail tried what ridicule could affect and actually printed a book under the title songs of the nursery or mother Goose's melodies for children on the title page was the picture of a goose with a very long neck and a mouth wide open and below this printed by tea Fleet at his printing house in putting Lane 1719 price to coppers Mr William a Wheeler the editor of heard and helton's elaborate edition of Mother Goose 1870 reiterated this assertion and the writer in the Boston transcript of June 17th 1864 says fleets book was partly a reprint of an English collection of songs Barkley's and the new title was \n"
     ]
    },
    {
     "name": "stderr",
     "output_type": "stream",
     "text": [
      "I0000 00:00:1724854107.878777 1801357 check_gcp_environment_no_op.cc:29] ALTS: Platforms other than Linux and Windows are not supported\n"
     ]
    },
    {
     "name": "stdout",
     "output_type": "stream",
     "text": [
      "Transcription for chunk 5 successful!\n",
      "Lisa compliment by the printer to his mother-in-law Goose for her contributions she was the mother of 16 children in a typical Old Woman Who Lived in a Shoe we may take it to be true that fleet's wife was of the virus family and that the name was often contracted to Goose but the rest of the story is unsupported by any evidence whatever in fact all that Mr Elliott knew of it was the statement of the late Edward a Cronin Shield of Boston that he had seen fleets Edition in the library of the American antiquarian society repeated researchers at Worcester having failed to bring to light the supposed copy and no record of it appearing on any catalog there we may dismiss the entire story with the supposition that Mr Elliott misunderstood the remarks made to him indeed as Mr William H Whitmore points out in his clever monograph upon Mother Goose Albany 1889 it is very doubtful whether in 1719 a Boston printer would have been allowed to publish \n"
     ]
    },
    {
     "name": "stderr",
     "output_type": "stream",
     "text": [
      "I0000 00:00:1724854126.633430 1801357 check_gcp_environment_no_op.cc:29] ALTS: Platforms other than Linux and Windows are not supported\n"
     ]
    },
    {
     "name": "stdout",
     "output_type": "stream",
     "text": [
      "Transcription for chunk 6 successful!\n",
      "trivial Rhymes Boston children at that date says Mr Whitmore were fed upon gospel food and it seems extremely improbable that in addition could have been sold singularly enough England's claim to this venerable old lady is of about the same date as Boston's there lived in a town in Sussex about the year 1704 and old woman named Martha guch she was a capital nurse and in great demand to care for newly born babies therefore through long years of service as nurse she came to be called mother G this good woman had 1 pecan torun queer Rhymes and Jingles over the cradles of her charges and these Rhymes seemed so senseless and silly to the people who overheard them that they began to call her mother goose in derision the term being derived from Queen goosefoot the mother of Charlemagne the old nurse paid no attention to her critics but continued to \n"
     ]
    },
    {
     "name": "stderr",
     "output_type": "stream",
     "text": [
      "I0000 00:00:1724854146.301154 1801357 check_gcp_environment_no_op.cc:29] ALTS: Platforms other than Linux and Windows are not supported\n"
     ]
    },
    {
     "name": "stdout",
     "output_type": "stream",
     "text": [
      "Transcription for chunk 7 successful!\n",
      "her Rhymes as before for however much grown people might laugh at her the children seem to enjoy them very much and not 1 of them was 2 pea to be quieted and soothed by her verses at 1 time Mr scooch was nursing a child of Mr Ronald Barkley a physician residing in the town and he noticed the Rhymes she sang and became interested in them in time he wrote them all down and made a book of them which it is said was printed by John Worthington and son in the Strand London in 1712 under the name of ye melodious rhymes of Mother Goose but even this story of Martha gu is based upon very meager and unsatisfactory evidence the earliest English edition of mother Goose's Melodies that is absolutely authentic was issued by John Newbery of London about the year 1760 and the first authentic American Edition was a reprint of newbury's made by Isaiah Thomas of Worcester Massachusetts \n"
     ]
    },
    {
     "name": "stderr",
     "output_type": "stream",
     "text": [
      "I0000 00:00:1724854168.411625 1801357 check_gcp_environment_no_op.cc:29] ALTS: Platforms other than Linux and Windows are not supported\n"
     ]
    },
    {
     "name": "stdout",
     "output_type": "stream",
     "text": [
      "Transcription for chunk 8 successful!\n",
      "in 1785 none of the earlier editions however contained all the Rhymes so well known if the present day since every decade has added its quota to the mass of Jingles attributed to Mother Goose some of the earlier verses have become entirely Obsolete and it is well they have for many were crude and silly and others were coarse it is simply a result of the greater refinement of modern civilization that they have been relegated to Oblivion while the real gems of the collection will doubtless live and grow in popular favor for many ages while I have taken some pains to record the various claims to the origin of Mother Goose it does not matter in the least whether she was in reality a myth or a living Eliza Goose Martha G or the Mi oi of Peru the songs that cluster around her name are what we love and each individual verse appeals more to the childish mind \n"
     ]
    },
    {
     "name": "stderr",
     "output_type": "stream",
     "text": [
      "I0000 00:00:1724854188.539534 1801357 check_gcp_environment_no_op.cc:29] ALTS: Platforms other than Linux and Windows are not supported\n"
     ]
    },
    {
     "name": "stdout",
     "output_type": "stream",
     "text": [
      "Transcription for chunk 9 successful!\n",
      "then does Mother Goose herself many of these nursery rhymes are complete tales in themselves telling their story tersely but completely there are others which are but bear suggestions leaving the imagination to weave in the details of the story perhaps therein May Lie part of their charm but however that may be I have thought the children might like the stories told at greater length that they may dwell the longer upon their favorite Heroes and heroes for that reason I have written this book in making the stories I have followed mainly the suggestions of the Rhymes and my hope is that the little ones will like them and not find that they interfere with the fanciful creations of their own imaginations lfrank bomb Chicago Illinois september 1897 end of the introduction \n"
     ]
    }
   ],
   "source": [
    "from pydub import AudioSegment\n",
    "from pydub.utils import make_chunks\n",
    "import speech_recognition as sr\n",
    "import os\n",
    "\n",
    "# Path to the MP3 file and the output WAV file\n",
    "mp3_file_path = '/Users/abirsleem/Documents/Abir/NewJOB/RadicalAIInternship/kai-ai-backend/app/features/quizzify/testfiles/mother_goose_01_baum_64kb.mp3'\n",
    "wav_file_path = '/Users/abirsleem/Documents/Abir/NewJOB/RadicalAIInternship/kai-ai-backend/app/features/quizzify/testfiles/mother_goose_01_baum_64kb.wav'\n",
    "\n",
    "# Convert the MP3 file to WAV\n",
    "try:\n",
    "    audio = AudioSegment.from_mp3(mp3_file_path)\n",
    "    audio.export(wav_file_path, format=\"wav\")\n",
    "    print(\"Conversion to WAV successful!\")\n",
    "except Exception as e:\n",
    "    print(f\"Error during conversion: {e}\")\n",
    "\n",
    "# Split WAV file into smaller chunks\n",
    "chunk_length_ms = 60000  # 2 minute chunks\n",
    "audio = AudioSegment.from_wav(wav_file_path)\n",
    "chunks = make_chunks(audio, chunk_length_ms)\n",
    "\n",
    "# Create a recognizer instance\n",
    "recognizer = sr.Recognizer()\n",
    "\n",
    "# Path to your Google Cloud API key JSON file\n",
    "google_credentials_json = '/Users/abirsleem/Documents/Abir/NewJOB/RadicalAIInternship/kai-ai-backend/app/local-auth.json'\n",
    "\n",
    "# Load credentials and set environment variable\n",
    "os.environ['GOOGLE_APPLICATION_CREDENTIALS'] = google_credentials_json\n",
    "\n",
    "# Directory to save chunks\n",
    "chunks_dir = '/Users/abirsleem/Documents/Abir/NewJOB/RadicalAIInternship/kai-ai-backend/app/features/quizzify/testfiles/chunks/'\n",
    "\n",
    "# Create the directory if it doesn't exist\n",
    "os.makedirs(chunks_dir, exist_ok=True)\n",
    "\n",
    "# Process each chunk\n",
    "for i, chunk in enumerate(chunks):\n",
    "    chunk_file_path = os.path.join(chunks_dir, f'chunk_{i}.wav')\n",
    "    chunk.export(chunk_file_path, format=\"wav\")\n",
    "    \n",
    "    try:\n",
    "        with sr.AudioFile(chunk_file_path) as source:\n",
    "            audio_data = recognizer.record(source)\n",
    "            try:\n",
    "                # Recognize speech using Google Cloud Speech-to-Text\n",
    "                text = recognizer.recognize_google_cloud(audio_data)\n",
    "                print(f\"Transcription for chunk {i} successful!\")\n",
    "                print(text)\n",
    "            except sr.UnknownValueError:\n",
    "                print(f\"Chunk {i}: Google Speech Recognition could not understand the audio.\")\n",
    "            except sr.RequestError as e:\n",
    "                print(f\"Chunk {i}: Could not request results from Google Speech Recognition service; {e}\")\n",
    "    except FileNotFoundError:\n",
    "        print(f\"File not found: {chunk_file_path}\")\n",
    "    except Exception as e:\n",
    "        print(f\"An unexpected error occurred while processing chunk {i}: {e}\")\n",
    "    finally:\n",
    "        # Clean up the chunk file after processing\n",
    "        if os.path.exists(chunk_file_path):\n",
    "            os.remove(chunk_file_path)\n"
   ]
  }
 ],
 "metadata": {
  "kernelspec": {
   "display_name": "env",
   "language": "python",
   "name": "python3"
  },
  "language_info": {
   "codemirror_mode": {
    "name": "ipython",
    "version": 3
   },
   "file_extension": ".py",
   "mimetype": "text/x-python",
   "name": "python",
   "nbconvert_exporter": "python",
   "pygments_lexer": "ipython3",
   "version": "3.12.4"
  }
 },
 "nbformat": 4,
 "nbformat_minor": 2
}
